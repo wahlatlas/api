{
 "cells": [
  {
   "cell_type": "markdown",
   "id": "4cb696da-6f86-48d7-9825-f155c59e8373",
   "metadata": {},
   "source": [
    "# Zensusergebnisse für Bundestagswahlkreise "
   ]
  },
  {
   "cell_type": "code",
   "execution_count": 1,
   "id": "5ec5cf78-9ba0-484c-918c-fba9bdc3e522",
   "metadata": {},
   "outputs": [],
   "source": [
    "import pandas as pd\n",
    "import requests\n",
    "import json"
   ]
  },
  {
   "cell_type": "markdown",
   "id": "d639ba89-2463-440e-afa6-44890717ed2f",
   "metadata": {},
   "source": [
    "## Token erhalten/zurücksetzen bzw. Registrierung  \n",
    "https://ergebnisse.zensus2022.de/datenbank/online#modal=login"
   ]
  },
  {
   "cell_type": "markdown",
   "id": "01606a90-c6f0-4b46-ac48-64658adf63a2",
   "metadata": {},
   "source": [
    "### Check login credentials"
   ]
  },
  {
   "cell_type": "code",
   "execution_count": 15,
   "id": "c9c3f1eb-48ba-40c2-8c0d-a1e036bc2bfa",
   "metadata": {},
   "outputs": [],
   "source": [
    "BASE_URL = \"https://ergebnisse.zensus2022.de/api/rest/2020/\"\n",
    "\n",
    "zor_token = \"xxx_YOUR_TOKEN_HERE_xxx\"\n",
    "\n",
    "USERNAME = zor_token\n",
    "PASSWORD = \"\"\n",
    "\n",
    "langPref = \"de\"\n",
    "\n",
    "headers = {\n",
    "    'Content-Type': 'application/x-www-form-urlencoded',\n",
    "    'username': USERNAME,\n",
    "    'password': PASSWORD\n",
    "    }"
   ]
  },
  {
   "cell_type": "code",
   "execution_count": 3,
   "id": "a2796389-0760-4541-bfd0-4a7c18094bbd",
   "metadata": {},
   "outputs": [
    {
     "data": {
      "text/plain": [
       "'Sie wurden erfolgreich an- und abgemeldet! Bei mehr als 3 parallelen Requests wurden länger als 15 Minuten laufende Requests beendet.'"
      ]
     },
     "execution_count": 3,
     "metadata": {},
     "output_type": "execute_result"
    }
   ],
   "source": [
    "hello = requests.post(BASE_URL + 'helloworld/logincheck', \n",
    "    headers = headers,\n",
    "    data = {\n",
    "    'language': langPref\n",
    "})\n",
    "hello.json()[\"Status\"]"
   ]
  },
  {
   "cell_type": "markdown",
   "id": "b5f715a7-575d-4ff5-8d4a-82bd25c69c64",
   "metadata": {},
   "source": [
    "### Catalogue Service: Liste alle Tabellen mit dem Regionalmerkmal GEOWK1"
   ]
  },
  {
   "cell_type": "code",
   "execution_count": 4,
   "id": "c2071498-b354-4027-bf12-88146aec4321",
   "metadata": {},
   "outputs": [],
   "source": [
    "tables = requests.post(BASE_URL + 'catalogue/tables2variable',\n",
    "    headers = headers,\n",
    "    data = {\n",
    "    'name': 'GEOWK1',\n",
    "    'language': langPref,\n",
    "    'pagelength': 50\n",
    "    })"
   ]
  },
  {
   "cell_type": "code",
   "execution_count": 5,
   "id": "49596a4f-f02e-41f0-8990-bb7f4f854970",
   "metadata": {},
   "outputs": [],
   "source": [
    "btw25tables = pd.DataFrame(tables.json()[\"List\"])"
   ]
  },
  {
   "cell_type": "code",
   "execution_count": 6,
   "id": "6be57859-3463-472a-8553-c012ec33a3e4",
   "metadata": {},
   "outputs": [
    {
     "data": {
      "text/plain": [
       "46"
      ]
     },
     "execution_count": 6,
     "metadata": {},
     "output_type": "execute_result"
    }
   ],
   "source": [
    "len(btw25tables)"
   ]
  },
  {
   "cell_type": "code",
   "execution_count": 11,
   "id": "fc5600c6-3d55-4bd5-9c68-4b46436f37a0",
   "metadata": {},
   "outputs": [
    {
     "data": {
      "text/html": [
       "<div>\n",
       "<style scoped>\n",
       "    .dataframe tbody tr th:only-of-type {\n",
       "        vertical-align: middle;\n",
       "    }\n",
       "\n",
       "    .dataframe tbody tr th {\n",
       "        vertical-align: top;\n",
       "    }\n",
       "\n",
       "    .dataframe thead th {\n",
       "        text-align: right;\n",
       "    }\n",
       "</style>\n",
       "<table border=\"1\" class=\"dataframe\">\n",
       "  <thead>\n",
       "    <tr style=\"text-align: right;\">\n",
       "      <th></th>\n",
       "      <th>Code</th>\n",
       "      <th>Content</th>\n",
       "      <th>Time</th>\n",
       "    </tr>\n",
       "  </thead>\n",
       "  <tbody>\n",
       "    <tr>\n",
       "      <th>41</th>\n",
       "      <td>4000W-1W19</td>\n",
       "      <td>Wohnungen: Miete der Wohnung (250 € - Schritte)</td>\n",
       "      <td>15.05.2022 - 15.05.2022</td>\n",
       "    </tr>\n",
       "    <tr>\n",
       "      <th>42</th>\n",
       "      <td>4000W-1W20</td>\n",
       "      <td>Wohnungen: Miete der Wohnung (1 €/m²-Schritte)</td>\n",
       "      <td>15.05.2022 - 15.05.2022</td>\n",
       "    </tr>\n",
       "    <tr>\n",
       "      <th>43</th>\n",
       "      <td>4000W-1W21</td>\n",
       "      <td>Wohnungen: Miete der Wohnung (2 €/m²-Schritte)</td>\n",
       "      <td>15.05.2022 - 15.05.2022</td>\n",
       "    </tr>\n",
       "    <tr>\n",
       "      <th>44</th>\n",
       "      <td>4000W-1W22</td>\n",
       "      <td>Wohnungen: Dauer des Wohnungsleerstands</td>\n",
       "      <td>15.05.2022 - 15.05.2022</td>\n",
       "    </tr>\n",
       "    <tr>\n",
       "      <th>45</th>\n",
       "      <td>4000W-1W23</td>\n",
       "      <td>Wohnungen: Grund des Leerstands</td>\n",
       "      <td>15.05.2022 - 15.05.2022</td>\n",
       "    </tr>\n",
       "  </tbody>\n",
       "</table>\n",
       "</div>"
      ],
      "text/plain": [
       "          Code                                          Content  \\\n",
       "41  4000W-1W19  Wohnungen: Miete der Wohnung (250 € - Schritte)   \n",
       "42  4000W-1W20   Wohnungen: Miete der Wohnung (1 €/m²-Schritte)   \n",
       "43  4000W-1W21   Wohnungen: Miete der Wohnung (2 €/m²-Schritte)   \n",
       "44  4000W-1W22          Wohnungen: Dauer des Wohnungsleerstands   \n",
       "45  4000W-1W23                  Wohnungen: Grund des Leerstands   \n",
       "\n",
       "                       Time  \n",
       "41  15.05.2022 - 15.05.2022  \n",
       "42  15.05.2022 - 15.05.2022  \n",
       "43  15.05.2022 - 15.05.2022  \n",
       "44  15.05.2022 - 15.05.2022  \n",
       "45  15.05.2022 - 15.05.2022  "
      ]
     },
     "execution_count": 11,
     "metadata": {},
     "output_type": "execute_result"
    }
   ],
   "source": [
    "btw25tables.tail(5)"
   ]
  },
  {
   "cell_type": "code",
   "execution_count": 13,
   "id": "f7d72445-4492-4558-b0af-6501b30ffd56",
   "metadata": {},
   "outputs": [],
   "source": [
    "def downloadTable(tableCode):\n",
    "\n",
    "    dl = requests.post(BASE_URL + 'data/tablefile',\n",
    "        headers = headers,\n",
    "        data = {\n",
    "            'name': tableCode,\n",
    "            'format': 'ffcsv',\n",
    "            'language': langPref\n",
    "            })\n",
    "\n",
    "    with open(tableCode+\".zip\", \"wb\") as f:\n",
    "        f.write(dl.content)"
   ]
  },
  {
   "cell_type": "code",
   "execution_count": 35,
   "id": "78dbaad3-6998-43e3-bf3d-32fa61ce389f",
   "metadata": {},
   "outputs": [],
   "source": [
    "for myCode in btw25tables[\"Code\"]:\n",
    "    downloadTable(myCode)"
   ]
  }
 ],
 "metadata": {
  "kernelspec": {
   "display_name": "Python 3 (ipykernel)",
   "language": "python",
   "name": "python3"
  },
  "language_info": {
   "codemirror_mode": {
    "name": "ipython",
    "version": 3
   },
   "file_extension": ".py",
   "mimetype": "text/x-python",
   "name": "python",
   "nbconvert_exporter": "python",
   "pygments_lexer": "ipython3",
   "version": "3.13.0"
  }
 },
 "nbformat": 4,
 "nbformat_minor": 5
}
