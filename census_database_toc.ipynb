{
 "cells": [
  {
   "cell_type": "code",
   "execution_count": 1,
   "metadata": {},
   "outputs": [],
   "source": [
    "import pandas as pd\n",
    "from dotenv import dotenv_values, load_dotenv\n",
    "import requests\n",
    "import json"
   ]
  },
  {
   "cell_type": "code",
   "execution_count": 2,
   "metadata": {},
   "outputs": [
    {
     "data": {
      "text/plain": [
       "'2.1.1'"
      ]
     },
     "execution_count": 2,
     "metadata": {},
     "output_type": "execute_result"
    }
   ],
   "source": [
    "pd.__version__"
   ]
  },
  {
   "cell_type": "markdown",
   "metadata": {},
   "source": [
    "## German Census Database (Genesis) – Create Table of Contents via API\n",
    "  \n",
    "*creating the complete Excel file may take up to 90 minutes*\n",
    "\n",
    "for full api documentation (in German), see  \n",
    "https://ergebnisse2011.zensus2022.de/datenbank/misc/ZENSUS-Webservices_Einfuehrung.pdf\n",
    "\n",
    "code inspiration thanks to  \n",
    "https://github.com/sjockers/genesis-api-example"
   ]
  },
  {
   "cell_type": "code",
   "execution_count": 3,
   "metadata": {},
   "outputs": [],
   "source": [
    "# set preferred language (de|en)\n",
    "langPref = \"en\"\n",
    "# expand text output\n",
    "pd.set_option('display.max_colwidth', None)"
   ]
  },
  {
   "cell_type": "code",
   "execution_count": 4,
   "metadata": {},
   "outputs": [],
   "source": [
    "# Load credentials from .env file\n",
    "load_dotenv()  \n",
    "USERNAME, PASSWORD = dotenv_values().values()\n",
    "\n",
    "# Set base path for API calls\n",
    "BASE_URL = 'https://ergebnisse2011.zensus2022.de/api/rest/2020/'"
   ]
  },
  {
   "cell_type": "markdown",
   "metadata": {},
   "source": [
    "### Check login credentials"
   ]
  },
  {
   "cell_type": "code",
   "execution_count": 5,
   "metadata": {},
   "outputs": [
    {
     "data": {
      "text/plain": [
       "'You have been logged in and out successfully!'"
      ]
     },
     "execution_count": 5,
     "metadata": {},
     "output_type": "execute_result"
    }
   ],
   "source": [
    "hello = requests.get(BASE_URL + 'helloworld/logincheck', params={\n",
    "    'username': USERNAME,\n",
    "    'password': PASSWORD,\n",
    "    'language': langPref\n",
    "})\n",
    "hello.json()[\"Status\"]"
   ]
  },
  {
   "cell_type": "markdown",
   "metadata": {},
   "source": [
    "### Catalogue Service"
   ]
  },
  {
   "cell_type": "code",
   "execution_count": 6,
   "metadata": {},
   "outputs": [],
   "source": [
    "variables = requests.get(BASE_URL + 'catalogue/variables', params={\n",
    "    'username': USERNAME,\n",
    "    'password': PASSWORD,\n",
    "    'language': langPref,\n",
    "    'pagelength': 200\n",
    "})\n",
    "variableCodes = variables.json()[\"List\"]"
   ]
  },
  {
   "cell_type": "code",
   "execution_count": 7,
   "metadata": {},
   "outputs": [
    {
     "data": {
      "text/plain": [
       "134"
      ]
     },
     "execution_count": 7,
     "metadata": {},
     "output_type": "execute_result"
    }
   ],
   "source": [
    "len(variableCodes)"
   ]
  },
  {
   "cell_type": "code",
   "execution_count": 8,
   "metadata": {},
   "outputs": [
    {
     "data": {
      "text/plain": [
       "[{'Code': 'WHGFL3',\n",
       "  'Content': 'Floor area of the dwelling (20m² intervals)',\n",
       "  'Type': 'Subject',\n",
       "  'Values': '10',\n",
       "  'Information': 'true'},\n",
       " {'Code': 'WHGNZ1',\n",
       "  'Content': 'Type of use of the dwelling',\n",
       "  'Type': 'Subject',\n",
       "  'Values': '5',\n",
       "  'Information': 'true'},\n",
       " {'Code': 'WHGRM2',\n",
       "  'Content': 'Rooms',\n",
       "  'Type': 'Subject',\n",
       "  'Values': '7',\n",
       "  'Information': 'true'}]"
      ]
     },
     "execution_count": 8,
     "metadata": {},
     "output_type": "execute_result"
    }
   ],
   "source": [
    "variableCodes[-3:]"
   ]
  },
  {
   "cell_type": "code",
   "execution_count": 9,
   "metadata": {},
   "outputs": [],
   "source": [
    "def metaVal(var):\n",
    "\n",
    "    metadata = requests.get(BASE_URL + 'catalogue/values2variable', params={\n",
    "        'username': USERNAME,\n",
    "        'password': PASSWORD,\n",
    "        'language': langPref,\n",
    "        'pagelength': 15000,  # there are 11.340 municipality names as of 2011\n",
    "        'name': var\n",
    "    })\n",
    "    \n",
    "    return(metadata.json()[\"List\"])"
   ]
  },
  {
   "cell_type": "code",
   "execution_count": 10,
   "metadata": {},
   "outputs": [],
   "source": [
    "metadataValues = pd.DataFrame()"
   ]
  },
  {
   "cell_type": "code",
   "execution_count": 11,
   "metadata": {},
   "outputs": [],
   "source": [
    "for obj in variableCodes:\n",
    "\n",
    "    myList = metaVal(obj[\"Code\"])\n",
    "\n",
    "    try:\n",
    "        len(myList)\n",
    "    except:\n",
    "        myList = [{\"Code\":\"\",\"Content\":\"\"}]\n",
    "    \n",
    "    for item in myList:\n",
    "        \n",
    "        metadataValues = pd.concat([metadataValues, pd.DataFrame({ \"Variable\": obj[\"Code\"], \\\n",
    "                                                                  \"VarLabel\": obj[\"Content\"], \\\n",
    "                                                                  \"Code\": item[\"Code\"], \\\n",
    "                                                                  \"Content\": item[\"Content\"]}, \\\n",
    "                                                                     index=[0])])"
   ]
  },
  {
   "cell_type": "code",
   "execution_count": 12,
   "metadata": {},
   "outputs": [
    {
     "data": {
      "text/html": [
       "<div>\n",
       "<style scoped>\n",
       "    .dataframe tbody tr th:only-of-type {\n",
       "        vertical-align: middle;\n",
       "    }\n",
       "\n",
       "    .dataframe tbody tr th {\n",
       "        vertical-align: top;\n",
       "    }\n",
       "\n",
       "    .dataframe thead th {\n",
       "        text-align: right;\n",
       "    }\n",
       "</style>\n",
       "<table border=\"1\" class=\"dataframe\">\n",
       "  <thead>\n",
       "    <tr style=\"text-align: right;\">\n",
       "      <th></th>\n",
       "      <th>Variable</th>\n",
       "      <th>VarLabel</th>\n",
       "      <th>Code</th>\n",
       "      <th>Content</th>\n",
       "    </tr>\n",
       "  </thead>\n",
       "  <tbody>\n",
       "    <tr>\n",
       "      <th>0</th>\n",
       "      <td>ALTER1</td>\n",
       "      <td>Age (yearly stages)</td>\n",
       "      <td>ALTERU01</td>\n",
       "      <td>Under 1 year</td>\n",
       "    </tr>\n",
       "    <tr>\n",
       "      <th>0</th>\n",
       "      <td>ALTER1</td>\n",
       "      <td>Age (yearly stages)</td>\n",
       "      <td>ALTER001</td>\n",
       "      <td>1 year</td>\n",
       "    </tr>\n",
       "    <tr>\n",
       "      <th>0</th>\n",
       "      <td>ALTER1</td>\n",
       "      <td>Age (yearly stages)</td>\n",
       "      <td>ALTER002</td>\n",
       "      <td>2 years</td>\n",
       "    </tr>\n",
       "    <tr>\n",
       "      <th>0</th>\n",
       "      <td>ALTER1</td>\n",
       "      <td>Age (yearly stages)</td>\n",
       "      <td>ALTER003</td>\n",
       "      <td>3 years</td>\n",
       "    </tr>\n",
       "    <tr>\n",
       "      <th>0</th>\n",
       "      <td>ALTER1</td>\n",
       "      <td>Age (yearly stages)</td>\n",
       "      <td>ALTER004</td>\n",
       "      <td>4 years</td>\n",
       "    </tr>\n",
       "    <tr>\n",
       "      <th>...</th>\n",
       "      <td>...</td>\n",
       "      <td>...</td>\n",
       "      <td>...</td>\n",
       "      <td>...</td>\n",
       "    </tr>\n",
       "    <tr>\n",
       "      <th>0</th>\n",
       "      <td>WHGRM2</td>\n",
       "      <td>Rooms</td>\n",
       "      <td>RAUM03</td>\n",
       "      <td>3 rooms</td>\n",
       "    </tr>\n",
       "    <tr>\n",
       "      <th>0</th>\n",
       "      <td>WHGRM2</td>\n",
       "      <td>Rooms</td>\n",
       "      <td>RAUM04</td>\n",
       "      <td>4 rooms</td>\n",
       "    </tr>\n",
       "    <tr>\n",
       "      <th>0</th>\n",
       "      <td>WHGRM2</td>\n",
       "      <td>Rooms</td>\n",
       "      <td>RAUM05</td>\n",
       "      <td>5 rooms</td>\n",
       "    </tr>\n",
       "    <tr>\n",
       "      <th>0</th>\n",
       "      <td>WHGRM2</td>\n",
       "      <td>Rooms</td>\n",
       "      <td>RAUM06</td>\n",
       "      <td>6 rooms</td>\n",
       "    </tr>\n",
       "    <tr>\n",
       "      <th>0</th>\n",
       "      <td>WHGRM2</td>\n",
       "      <td>Rooms</td>\n",
       "      <td>RAUM07UM</td>\n",
       "      <td>7 and more rooms</td>\n",
       "    </tr>\n",
       "  </tbody>\n",
       "</table>\n",
       "<p>13977 rows × 4 columns</p>\n",
       "</div>"
      ],
      "text/plain": [
       "   Variable             VarLabel      Code           Content\n",
       "0    ALTER1  Age (yearly stages)  ALTERU01      Under 1 year\n",
       "0    ALTER1  Age (yearly stages)  ALTER001            1 year\n",
       "0    ALTER1  Age (yearly stages)  ALTER002           2 years\n",
       "0    ALTER1  Age (yearly stages)  ALTER003           3 years\n",
       "0    ALTER1  Age (yearly stages)  ALTER004           4 years\n",
       "..      ...                  ...       ...               ...\n",
       "0    WHGRM2                Rooms    RAUM03           3 rooms\n",
       "0    WHGRM2                Rooms    RAUM04           4 rooms\n",
       "0    WHGRM2                Rooms    RAUM05           5 rooms\n",
       "0    WHGRM2                Rooms    RAUM06           6 rooms\n",
       "0    WHGRM2                Rooms  RAUM07UM  7 and more rooms\n",
       "\n",
       "[13977 rows x 4 columns]"
      ]
     },
     "execution_count": 12,
     "metadata": {},
     "output_type": "execute_result"
    }
   ],
   "source": [
    "metadataValues"
   ]
  },
  {
   "cell_type": "code",
   "execution_count": null,
   "metadata": {},
   "outputs": [],
   "source": []
  },
  {
   "cell_type": "code",
   "execution_count": 13,
   "metadata": {},
   "outputs": [],
   "source": [
    "tables = requests.get(BASE_URL + 'catalogue/tables', params={\n",
    "    'username': USERNAME,\n",
    "    'password': PASSWORD,\n",
    "    'language': langPref,\n",
    "    'pagelength': 1500\n",
    "})\n",
    "tableCodes = tables.json()[\"List\"]"
   ]
  },
  {
   "cell_type": "code",
   "execution_count": 14,
   "metadata": {},
   "outputs": [
    {
     "data": {
      "text/plain": [
       "754"
      ]
     },
     "execution_count": 14,
     "metadata": {},
     "output_type": "execute_result"
    }
   ],
   "source": [
    "len(tableCodes)"
   ]
  },
  {
   "cell_type": "code",
   "execution_count": 15,
   "metadata": {},
   "outputs": [
    {
     "data": {
      "text/plain": [
       "[{'Code': '6000F-2004',\n",
       "  'Content': 'Families: Size of family nucleus/Type of family nucleus\\n(by family) - Equipment in dwelling/Floor area of the\\ndwelling (20m² intervals)/Rooms',\n",
       "  'Time': '2011-05-09 to 2011-05-09'},\n",
       " {'Code': '6000F-3001',\n",
       "  'Content': 'Families: Size of private household - Senior citizen status\\n- Type of private household (by family)',\n",
       "  'Time': '2011-05-09 to 2011-05-09'},\n",
       " {'Code': '6000F-3002',\n",
       "  'Content': 'Families: Size of family nucleus - Type of family nucleus\\n(by family) - Equipment in dwelling/Floor area of the\\ndwelling (20m² intervals)/Rooms',\n",
       "  'Time': '2011-05-09 to 2011-05-09'}]"
      ]
     },
     "execution_count": 15,
     "metadata": {},
     "output_type": "execute_result"
    }
   ],
   "source": [
    "tableCodes[-3:]"
   ]
  },
  {
   "cell_type": "markdown",
   "metadata": {},
   "source": [
    "### Metadata Service"
   ]
  },
  {
   "cell_type": "code",
   "execution_count": 16,
   "metadata": {},
   "outputs": [],
   "source": [
    "varCodes=[]"
   ]
  },
  {
   "cell_type": "code",
   "execution_count": 17,
   "metadata": {},
   "outputs": [],
   "source": [
    "for item in variableCodes:\n",
    "    varCodes.append(item.get(\"Code\"))"
   ]
  },
  {
   "cell_type": "code",
   "execution_count": 18,
   "metadata": {},
   "outputs": [
    {
     "data": {
      "text/plain": [
       "['ALTER1', 'ALTGR1', 'ALTGR2', 'ALTGR3', 'ALTGR4']"
      ]
     },
     "execution_count": 18,
     "metadata": {},
     "output_type": "execute_result"
    }
   ],
   "source": [
    "varCodes[0:5]"
   ]
  },
  {
   "cell_type": "code",
   "execution_count": 19,
   "metadata": {},
   "outputs": [],
   "source": [
    "def metaVar(var):\n",
    "\n",
    "    metadata = requests.get(BASE_URL + 'metadata/variable', params={\n",
    "        'username': USERNAME,\n",
    "        'password': PASSWORD,\n",
    "        'language': langPref,\n",
    "        'name': var\n",
    "    })\n",
    "    \n",
    "    return(metadata.json()[\"Object\"])"
   ]
  },
  {
   "cell_type": "code",
   "execution_count": 20,
   "metadata": {},
   "outputs": [],
   "source": [
    "metadataVariable = pd.DataFrame()"
   ]
  },
  {
   "cell_type": "code",
   "execution_count": 21,
   "metadata": {},
   "outputs": [],
   "source": [
    "for code in varCodes:\n",
    "\n",
    "    myObject = metaVar(code)\n",
    "    \n",
    "    try:\n",
    "        myInformation = myObject[\"Information\"].replace(\"wiki\",\"\").replace(\"\\n\",\" \")\n",
    "    except:\n",
    "        myInformation = \"\"\n",
    "\n",
    "    metadataVariable = pd.concat([metadataVariable, pd.DataFrame({\"Code\": myObject[\"Code\"], \\\n",
    "                                                          \"Content\": myObject[\"Content\"], \\\n",
    "                                                          \"Values\" : myObject[\"Values\"], \\\n",
    "                                                          \"Information\": myInformation, \\\n",
    "                                                          \"Updated\": myObject[\"Updated\"]},\\\n",
    "                                                          index=[0])])"
   ]
  },
  {
   "cell_type": "code",
   "execution_count": 22,
   "metadata": {},
   "outputs": [
    {
     "data": {
      "text/html": [
       "<div>\n",
       "<style scoped>\n",
       "    .dataframe tbody tr th:only-of-type {\n",
       "        vertical-align: middle;\n",
       "    }\n",
       "\n",
       "    .dataframe tbody tr th {\n",
       "        vertical-align: top;\n",
       "    }\n",
       "\n",
       "    .dataframe thead th {\n",
       "        text-align: right;\n",
       "    }\n",
       "</style>\n",
       "<table border=\"1\" class=\"dataframe\">\n",
       "  <thead>\n",
       "    <tr style=\"text-align: right;\">\n",
       "      <th></th>\n",
       "      <th>Code</th>\n",
       "      <th>Content</th>\n",
       "      <th>Values</th>\n",
       "      <th>Information</th>\n",
       "      <th>Updated</th>\n",
       "    </tr>\n",
       "  </thead>\n",
       "  <tbody>\n",
       "    <tr>\n",
       "      <th>0</th>\n",
       "      <td>ALTER1</td>\n",
       "      <td>Age (yearly stages)</td>\n",
       "      <td>101</td>\n",
       "      <td>The age of the person refers to the completed year of life  on 9 May 2011. Broken down into individual years of age.</td>\n",
       "      <td>2022-05-09 15:37:41h</td>\n",
       "    </tr>\n",
       "    <tr>\n",
       "      <th>0</th>\n",
       "      <td>ALTGR1</td>\n",
       "      <td>Age (five years age groups)</td>\n",
       "      <td>19</td>\n",
       "      <td>The age of the person refers to the completed year of life  on 9 May 2011. This variable indicates a person's age  group for reference date 9 May 2011. The ages are cited in  five years age groups.</td>\n",
       "      <td>2020-10-28 10:42:15h</td>\n",
       "    </tr>\n",
       "    <tr>\n",
       "      <th>0</th>\n",
       "      <td>ALTGR2</td>\n",
       "      <td>Age (ten years age groups)</td>\n",
       "      <td>9</td>\n",
       "      <td>The age of the person refers to the completed year of life  on 9 May 2011. This variable indicates a person's age  group for reference date 9 May 2011. The ages are cited in  ten years age groups.</td>\n",
       "      <td>2020-10-28 10:42:19h</td>\n",
       "    </tr>\n",
       "  </tbody>\n",
       "</table>\n",
       "</div>"
      ],
      "text/plain": [
       "     Code                      Content Values  \\\n",
       "0  ALTER1          Age (yearly stages)    101   \n",
       "0  ALTGR1  Age (five years age groups)     19   \n",
       "0  ALTGR2   Age (ten years age groups)      9   \n",
       "\n",
       "                                                                                                                                                                                              Information  \\\n",
       "0                                                                                    The age of the person refers to the completed year of life  on 9 May 2011. Broken down into individual years of age.   \n",
       "0   The age of the person refers to the completed year of life  on 9 May 2011. This variable indicates a person's age  group for reference date 9 May 2011. The ages are cited in  five years age groups.   \n",
       "0    The age of the person refers to the completed year of life  on 9 May 2011. This variable indicates a person's age  group for reference date 9 May 2011. The ages are cited in  ten years age groups.   \n",
       "\n",
       "                Updated  \n",
       "0  2022-05-09 15:37:41h  \n",
       "0  2020-10-28 10:42:15h  \n",
       "0  2020-10-28 10:42:19h  "
      ]
     },
     "execution_count": 22,
     "metadata": {},
     "output_type": "execute_result"
    }
   ],
   "source": [
    "metadataVariable.head(3)"
   ]
  },
  {
   "cell_type": "code",
   "execution_count": null,
   "metadata": {},
   "outputs": [],
   "source": []
  },
  {
   "cell_type": "code",
   "execution_count": 23,
   "metadata": {},
   "outputs": [],
   "source": [
    "tabCodes=[]"
   ]
  },
  {
   "cell_type": "code",
   "execution_count": 24,
   "metadata": {},
   "outputs": [],
   "source": [
    "for item in tableCodes:\n",
    "    tabCodes.append(item.get(\"Code\"))"
   ]
  },
  {
   "cell_type": "code",
   "execution_count": 25,
   "metadata": {},
   "outputs": [
    {
     "data": {
      "text/plain": [
       "['6000F-2002', '6000F-2003', '6000F-2004', '6000F-3001', '6000F-3002']"
      ]
     },
     "execution_count": 25,
     "metadata": {},
     "output_type": "execute_result"
    }
   ],
   "source": [
    "tabCodes[-5:]"
   ]
  },
  {
   "cell_type": "code",
   "execution_count": 26,
   "metadata": {},
   "outputs": [],
   "source": [
    "def metaTab(tab):\n",
    "\n",
    "    metadata = requests.get(BASE_URL + 'metadata/table', params={\n",
    "        'username': USERNAME,\n",
    "        'password': PASSWORD,\n",
    "        'language': langPref,\n",
    "        'name': tab\n",
    "    })\n",
    "    \n",
    "    return(metadata.json()[\"Object\"])"
   ]
  },
  {
   "cell_type": "code",
   "execution_count": 27,
   "metadata": {},
   "outputs": [],
   "source": [
    "metadataTable = pd.DataFrame()"
   ]
  },
  {
   "cell_type": "code",
   "execution_count": 28,
   "metadata": {},
   "outputs": [],
   "source": [
    "# get metadata for all tables (754 for the 2011 census) - this might take more than an hour\n",
    "\n",
    "for code in tabCodes:\n",
    "\n",
    "    myObject = metaTab(code)\n",
    "    \n",
    "    try:\n",
    "        myCol2= myObject[\"Structure\"][\"Columns\"][1][\"Code\"]\n",
    "    except:\n",
    "        myCol2= \"\"\n",
    "    try:\n",
    "        myCol3= myObject[\"Structure\"][\"Columns\"][2][\"Code\"]\n",
    "    except:\n",
    "        myCol3= \"\"\n",
    "    \n",
    "    try:\n",
    "        myRow2= myObject[\"Structure\"][\"Rows\"][0][\"Structure\"][0][\"Code\"]\n",
    "    except:\n",
    "        myRow2= \"\"     \n",
    "    try:\n",
    "        myRow3= myObject[\"Structure\"][\"Rows\"][0][\"Structure\"][0][\"Structure\"][0][\"Code\"]\n",
    "    except:\n",
    "        myRow3= \"\"\n",
    "    try:\n",
    "        myRow4= myObject[\"Structure\"][\"Rows\"][0][\"Structure\"][0][\"Structure\"][0][\"Structure\"][0][\"Code\"]\n",
    "    except:\n",
    "        myRow4= \"\"\n",
    "    try:\n",
    "        myRow5= myObject[\"Structure\"][\"Rows\"][0][\"Structure\"][0][\"Structure\"][0][\"Structure\"][0][\"Structure\"][0][\"Code\"]\n",
    "    except:\n",
    "        myRow5= \"\"\n",
    "        \n",
    "    metadataTable = pd.concat([metadataTable, pd.DataFrame({\"Code\": myObject[\"Code\"], \\\n",
    "                                                          \"Content\": myObject[\"Content\"], \\\n",
    "                                                          \"Col1\": myObject[\"Structure\"][\"Columns\"][0][\"Code\"], \\\n",
    "                                                          \"Col2\": myCol2, \\\n",
    "                                                          \"Col3\": myCol3, \\\n",
    "                                                          \"Row1\": myObject[\"Structure\"][\"Rows\"][0][\"Code\"], \\\n",
    "                                                          \"Row2\": myRow2, \\\n",
    "                                                          \"Row3\": myRow3, \\\n",
    "                                                          \"Row4\": myRow4, \\\n",
    "                                                          \"Row5\": myRow5, \\\n",
    "                                                          \"Updated\": myObject[\"Updated\"]},\\\n",
    "                                                          index=[0])])"
   ]
  },
  {
   "cell_type": "code",
   "execution_count": 29,
   "metadata": {},
   "outputs": [
    {
     "data": {
      "text/html": [
       "<div>\n",
       "<style scoped>\n",
       "    .dataframe tbody tr th:only-of-type {\n",
       "        vertical-align: middle;\n",
       "    }\n",
       "\n",
       "    .dataframe tbody tr th {\n",
       "        vertical-align: top;\n",
       "    }\n",
       "\n",
       "    .dataframe thead th {\n",
       "        text-align: right;\n",
       "    }\n",
       "</style>\n",
       "<table border=\"1\" class=\"dataframe\">\n",
       "  <thead>\n",
       "    <tr style=\"text-align: right;\">\n",
       "      <th></th>\n",
       "      <th>Code</th>\n",
       "      <th>Content</th>\n",
       "      <th>Col1</th>\n",
       "      <th>Col2</th>\n",
       "      <th>Col3</th>\n",
       "      <th>Row1</th>\n",
       "      <th>Row2</th>\n",
       "      <th>Row3</th>\n",
       "      <th>Row4</th>\n",
       "      <th>Row5</th>\n",
       "      <th>Updated</th>\n",
       "    </tr>\n",
       "  </thead>\n",
       "  <tbody>\n",
       "    <tr>\n",
       "      <th>0</th>\n",
       "      <td>1000A-0001</td>\n",
       "      <td>Persons: Official population and area (municipalities)</td>\n",
       "      <td>PRS018</td>\n",
       "      <td>FLC001</td>\n",
       "      <td>PRS017</td>\n",
       "      <td>GEOGM1</td>\n",
       "      <td></td>\n",
       "      <td></td>\n",
       "      <td></td>\n",
       "      <td></td>\n",
       "      <td>2022-01-20 08:17:38h</td>\n",
       "    </tr>\n",
       "    <tr>\n",
       "      <th>0</th>\n",
       "      <td>1000A-1001</td>\n",
       "      <td>Persons: Age (ten years age groups)</td>\n",
       "      <td>GEODL1</td>\n",
       "      <td>GEOBL1</td>\n",
       "      <td></td>\n",
       "      <td>ALTGR2</td>\n",
       "      <td></td>\n",
       "      <td></td>\n",
       "      <td></td>\n",
       "      <td></td>\n",
       "      <td>2022-03-21 13:56:14h</td>\n",
       "    </tr>\n",
       "    <tr>\n",
       "      <th>0</th>\n",
       "      <td>1000A-1002</td>\n",
       "      <td>Persons: Age (eleven classes of years)</td>\n",
       "      <td>GEODL1</td>\n",
       "      <td>GEOBL1</td>\n",
       "      <td></td>\n",
       "      <td>ALTKL2</td>\n",
       "      <td></td>\n",
       "      <td></td>\n",
       "      <td></td>\n",
       "      <td></td>\n",
       "      <td>2022-03-21 13:56:14h</td>\n",
       "    </tr>\n",
       "  </tbody>\n",
       "</table>\n",
       "</div>"
      ],
      "text/plain": [
       "         Code                                                 Content    Col1  \\\n",
       "0  1000A-0001  Persons: Official population and area (municipalities)  PRS018   \n",
       "0  1000A-1001                     Persons: Age (ten years age groups)  GEODL1   \n",
       "0  1000A-1002                  Persons: Age (eleven classes of years)  GEODL1   \n",
       "\n",
       "     Col2    Col3    Row1 Row2 Row3 Row4 Row5               Updated  \n",
       "0  FLC001  PRS017  GEOGM1                      2022-01-20 08:17:38h  \n",
       "0  GEOBL1          ALTGR2                      2022-03-21 13:56:14h  \n",
       "0  GEOBL1          ALTKL2                      2022-03-21 13:56:14h  "
      ]
     },
     "execution_count": 29,
     "metadata": {},
     "output_type": "execute_result"
    }
   ],
   "source": [
    "metadataTable.head(3)"
   ]
  },
  {
   "cell_type": "code",
   "execution_count": null,
   "metadata": {},
   "outputs": [],
   "source": []
  },
  {
   "cell_type": "markdown",
   "metadata": {},
   "source": [
    "## Export to a single styled Excel file"
   ]
  },
  {
   "cell_type": "code",
   "execution_count": 30,
   "metadata": {},
   "outputs": [],
   "source": [
    "from openpyxl.styles import Alignment\n",
    "from openpyxl.styles import DEFAULT_FONT\n",
    "from openpyxl.styles import Font"
   ]
  },
  {
   "cell_type": "code",
   "execution_count": 31,
   "metadata": {},
   "outputs": [],
   "source": [
    "_font = Font(name=\"Arial\", sz=8)\n",
    "defs = {k: setattr(DEFAULT_FONT, k, v) for k, v in _font.__dict__.items()}"
   ]
  },
  {
   "cell_type": "code",
   "execution_count": 33,
   "metadata": {},
   "outputs": [],
   "source": [
    "with pd.ExcelWriter(\"census2011_toc_\"+langPref+\".xlsx\") as writer:  \n",
    "\n",
    "    metadataVariable.to_excel(writer, sheet_name='variables', index=False)\n",
    "    metadataValues.to_excel(writer, sheet_name='values', index=False)\n",
    "    metadataTable.to_excel(writer, sheet_name='tables', index=False)\n",
    "\n",
    "    # some styling, could be skipped\n",
    "    \n",
    "    writer.book[\"variables\"].column_dimensions[\"A\"].width = 15\n",
    "    writer.book[\"variables\"].column_dimensions[\"B\"].width = 25\n",
    "    writer.book[\"variables\"].column_dimensions[\"D\"].width = 60\n",
    "    writer.book[\"variables\"].column_dimensions[\"E\"].width = 20\n",
    "\n",
    "    for idx in enumerate(metadataVariable[\"Code\"]):\n",
    "        \n",
    "        writer.book[\"variables\"].row_dimensions[idx[0]+2].height = 50\n",
    "        writer.book[\"variables\"][\"B\"+str(idx[0]+2)].alignment = Alignment(wrap_text=True, vertical=\"bottom\")\n",
    "        writer.book[\"variables\"][\"D\"+str(idx[0]+2)].alignment = Alignment(wrap_text=True, vertical=\"bottom\")\n",
    "\n",
    "    writer.book[\"values\"].column_dimensions[\"A\"].width = 15\n",
    "    writer.book[\"values\"].column_dimensions[\"B\"].width = 50\n",
    "    writer.book[\"values\"].column_dimensions[\"C\"].width = 25\n",
    "    writer.book[\"values\"].column_dimensions[\"D\"].width = 50\n",
    "\n",
    "    writer.book[\"tables\"].column_dimensions[\"A\"].width = 15\n",
    "    writer.book[\"tables\"].column_dimensions[\"B\"].width = 50\n",
    "    writer.book[\"tables\"].column_dimensions[\"K\"].width = 20\n",
    "\n",
    "    for idx in enumerate(metadataTable[\"Code\"]):\n",
    "        \n",
    "        writer.book[\"tables\"].row_dimensions[idx[0]+2].height = 35\n",
    "        writer.book[\"tables\"][\"B\"+str(idx[0]+2)].alignment = Alignment(wrap_text=True, vertical=\"bottom\")"
   ]
  },
  {
   "cell_type": "code",
   "execution_count": null,
   "metadata": {},
   "outputs": [],
   "source": []
  }
 ],
 "metadata": {
  "kernelspec": {
   "display_name": "Python 3 (ipykernel)",
   "language": "python",
   "name": "python3"
  },
  "language_info": {
   "codemirror_mode": {
    "name": "ipython",
    "version": 3
   },
   "file_extension": ".py",
   "mimetype": "text/x-python",
   "name": "python",
   "nbconvert_exporter": "python",
   "pygments_lexer": "ipython3",
   "version": "3.12.0"
  }
 },
 "nbformat": 4,
 "nbformat_minor": 4
}
