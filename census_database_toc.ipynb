{
 "cells": [
  {
   "cell_type": "code",
   "execution_count": 1,
   "metadata": {},
   "outputs": [],
   "source": [
    "import pandas as pd\n",
    "from dotenv import dotenv_values, load_dotenv\n",
    "import requests\n",
    "import json"
   ]
  },
  {
   "cell_type": "code",
   "execution_count": 18,
   "metadata": {},
   "outputs": [
    {
     "data": {
      "text/plain": [
       "'2.1.1'"
      ]
     },
     "execution_count": 18,
     "metadata": {},
     "output_type": "execute_result"
    }
   ],
   "source": [
    "pd.__version__"
   ]
  },
  {
   "cell_type": "markdown",
   "metadata": {},
   "source": [
    "## German Census Database (Genesis) – Create Table of Contents\n",
    "\n",
    "for full api documentation (in German), see  \n",
    "https://ergebnisse2011.zensus2022.de/datenbank/misc/ZENSUS-Webservices_Einfuehrung.pdf\n",
    "\n",
    "code inspiration thanks to  \n",
    "https://github.com/sjockers/genesis-api-example"
   ]
  },
  {
   "cell_type": "code",
   "execution_count": 160,
   "metadata": {},
   "outputs": [],
   "source": [
    "# set preferred language (de|en)\n",
    "langPref = \"en\"\n",
    "# expand text output\n",
    "pd.set_option('display.max_colwidth', None)"
   ]
  },
  {
   "cell_type": "code",
   "execution_count": 161,
   "metadata": {},
   "outputs": [],
   "source": [
    "# Load credentials from .env file\n",
    "load_dotenv()  \n",
    "USERNAME, PASSWORD = dotenv_values().values()\n",
    "\n",
    "# Set base path for API calls\n",
    "BASE_URL = 'https://ergebnisse2011.zensus2022.de/api/rest/2020/'"
   ]
  },
  {
   "cell_type": "markdown",
   "metadata": {},
   "source": [
    "### Check login credentials"
   ]
  },
  {
   "cell_type": "code",
   "execution_count": 162,
   "metadata": {},
   "outputs": [
    {
     "data": {
      "text/plain": [
       "'You have been logged in and out successfully!'"
      ]
     },
     "execution_count": 162,
     "metadata": {},
     "output_type": "execute_result"
    }
   ],
   "source": [
    "hello = requests.get(BASE_URL + 'helloworld/logincheck', params={\n",
    "    'username': USERNAME,\n",
    "    'password': PASSWORD,\n",
    "    'language': langPref\n",
    "})\n",
    "hello.json()[\"Status\"]"
   ]
  },
  {
   "cell_type": "markdown",
   "metadata": {},
   "source": [
    "### Catalogue Service"
   ]
  },
  {
   "cell_type": "code",
   "execution_count": 163,
   "metadata": {},
   "outputs": [],
   "source": [
    "variables = requests.get(BASE_URL + 'catalogue/variables', params={\n",
    "    'username': USERNAME,\n",
    "    'password': PASSWORD,\n",
    "    'language': langPref,\n",
    "    'pagelength': 200\n",
    "})\n",
    "variableCodes = variables.json()[\"List\"]"
   ]
  },
  {
   "cell_type": "code",
   "execution_count": 164,
   "metadata": {},
   "outputs": [
    {
     "data": {
      "text/plain": [
       "134"
      ]
     },
     "execution_count": 164,
     "metadata": {},
     "output_type": "execute_result"
    }
   ],
   "source": [
    "len(variableCodes)"
   ]
  },
  {
   "cell_type": "code",
   "execution_count": 165,
   "metadata": {},
   "outputs": [
    {
     "data": {
      "text/plain": [
       "[{'Code': 'WHGFL3',\n",
       "  'Content': 'Floor area of the dwelling (20m² intervals)',\n",
       "  'Type': 'Subject',\n",
       "  'Values': '10',\n",
       "  'Information': 'true'},\n",
       " {'Code': 'WHGNZ1',\n",
       "  'Content': 'Type of use of the dwelling',\n",
       "  'Type': 'Subject',\n",
       "  'Values': '5',\n",
       "  'Information': 'true'},\n",
       " {'Code': 'WHGRM2',\n",
       "  'Content': 'Rooms',\n",
       "  'Type': 'Subject',\n",
       "  'Values': '7',\n",
       "  'Information': 'true'}]"
      ]
     },
     "execution_count": 165,
     "metadata": {},
     "output_type": "execute_result"
    }
   ],
   "source": [
    "variableCodes[-3:]"
   ]
  },
  {
   "cell_type": "code",
   "execution_count": 167,
   "metadata": {},
   "outputs": [],
   "source": [
    "tables = requests.get(BASE_URL + 'catalogue/tables', params={\n",
    "    'username': USERNAME,\n",
    "    'password': PASSWORD,\n",
    "    'language': langPref,\n",
    "    'pagelength': 1500\n",
    "})\n",
    "tableCodes = tables.json()[\"List\"]"
   ]
  },
  {
   "cell_type": "code",
   "execution_count": 168,
   "metadata": {},
   "outputs": [
    {
     "data": {
      "text/plain": [
       "754"
      ]
     },
     "execution_count": 168,
     "metadata": {},
     "output_type": "execute_result"
    }
   ],
   "source": [
    "len(tableCodes)"
   ]
  },
  {
   "cell_type": "code",
   "execution_count": 169,
   "metadata": {},
   "outputs": [
    {
     "data": {
      "text/plain": [
       "[{'Code': '6000F-2004',\n",
       "  'Content': 'Families: Size of family nucleus/Type of family nucleus\\n(by family) - Equipment in dwelling/Floor area of the\\ndwelling (20m² intervals)/Rooms',\n",
       "  'Time': '2011-05-09 to 2011-05-09'},\n",
       " {'Code': '6000F-3001',\n",
       "  'Content': 'Families: Size of private household - Senior citizen status\\n- Type of private household (by family)',\n",
       "  'Time': '2011-05-09 to 2011-05-09'},\n",
       " {'Code': '6000F-3002',\n",
       "  'Content': 'Families: Size of family nucleus - Type of family nucleus\\n(by family) - Equipment in dwelling/Floor area of the\\ndwelling (20m² intervals)/Rooms',\n",
       "  'Time': '2011-05-09 to 2011-05-09'}]"
      ]
     },
     "execution_count": 169,
     "metadata": {},
     "output_type": "execute_result"
    }
   ],
   "source": [
    "tableCodes[-3:]"
   ]
  },
  {
   "cell_type": "markdown",
   "metadata": {},
   "source": [
    "### Metadata Service"
   ]
  },
  {
   "cell_type": "code",
   "execution_count": 170,
   "metadata": {},
   "outputs": [],
   "source": [
    "varCodes=[]"
   ]
  },
  {
   "cell_type": "code",
   "execution_count": 171,
   "metadata": {},
   "outputs": [],
   "source": [
    "for item in variableCodes:\n",
    "    varCodes.append(item.get(\"Code\"))"
   ]
  },
  {
   "cell_type": "code",
   "execution_count": 172,
   "metadata": {},
   "outputs": [
    {
     "data": {
      "text/plain": [
       "['ALTER1', 'ALTGR1', 'ALTGR2', 'ALTGR3', 'ALTGR4']"
      ]
     },
     "execution_count": 172,
     "metadata": {},
     "output_type": "execute_result"
    }
   ],
   "source": [
    "varCodes[0:5]"
   ]
  },
  {
   "cell_type": "code",
   "execution_count": 173,
   "metadata": {},
   "outputs": [],
   "source": [
    "def metaVar(var):\n",
    "\n",
    "    metadata = requests.get(BASE_URL + 'metadata/variable', params={\n",
    "        'username': USERNAME,\n",
    "        'password': PASSWORD,\n",
    "        'language': langPref,\n",
    "        'name': var\n",
    "    })\n",
    "    \n",
    "    return(metadata.json()[\"Object\"])"
   ]
  },
  {
   "cell_type": "code",
   "execution_count": 178,
   "metadata": {},
   "outputs": [],
   "source": [
    "metadataVariable = pd.DataFrame()"
   ]
  },
  {
   "cell_type": "code",
   "execution_count": 179,
   "metadata": {},
   "outputs": [],
   "source": [
    "for code in varCodes:\n",
    "\n",
    "    myObject = metaVar(code)\n",
    "    \n",
    "    try:\n",
    "        myInformation = myObject[\"Information\"].replace(\"wiki\",\"\").replace(\"\\n\",\" \")\n",
    "    except:\n",
    "        myInformation = \"\"\n",
    "        \n",
    "    metadataVariable = pd.concat([metadataVariable, pd.DataFrame({\"Code\": myObject[\"Code\"], \\\n",
    "                                                          \"Content\": myObject[\"Content\"], \\\n",
    "                                                          \"Information\": myInformation, \\\n",
    "                                                          \"Updated\": myObject[\"Updated\"]},\\\n",
    "                                                          index=[0])])"
   ]
  },
  {
   "cell_type": "code",
   "execution_count": 180,
   "metadata": {},
   "outputs": [
    {
     "data": {
      "text/html": [
       "<div>\n",
       "<style scoped>\n",
       "    .dataframe tbody tr th:only-of-type {\n",
       "        vertical-align: middle;\n",
       "    }\n",
       "\n",
       "    .dataframe tbody tr th {\n",
       "        vertical-align: top;\n",
       "    }\n",
       "\n",
       "    .dataframe thead th {\n",
       "        text-align: right;\n",
       "    }\n",
       "</style>\n",
       "<table border=\"1\" class=\"dataframe\">\n",
       "  <thead>\n",
       "    <tr style=\"text-align: right;\">\n",
       "      <th></th>\n",
       "      <th>Code</th>\n",
       "      <th>Content</th>\n",
       "      <th>Information</th>\n",
       "      <th>Updated</th>\n",
       "    </tr>\n",
       "  </thead>\n",
       "  <tbody>\n",
       "    <tr>\n",
       "      <th>0</th>\n",
       "      <td>ALTER1</td>\n",
       "      <td>Age (yearly stages)</td>\n",
       "      <td>The age of the person refers to the completed year of life  on 9 May 2011. Broken down into individual years of age.</td>\n",
       "      <td>2022-05-09 15:37:41h</td>\n",
       "    </tr>\n",
       "    <tr>\n",
       "      <th>0</th>\n",
       "      <td>ALTGR1</td>\n",
       "      <td>Age (five years age groups)</td>\n",
       "      <td>The age of the person refers to the completed year of life  on 9 May 2011. This variable indicates a person's age  group for reference date 9 May 2011. The ages are cited in  five years age groups.</td>\n",
       "      <td>2020-10-28 10:42:15h</td>\n",
       "    </tr>\n",
       "    <tr>\n",
       "      <th>0</th>\n",
       "      <td>ALTGR2</td>\n",
       "      <td>Age (ten years age groups)</td>\n",
       "      <td>The age of the person refers to the completed year of life  on 9 May 2011. This variable indicates a person's age  group for reference date 9 May 2011. The ages are cited in  ten years age groups.</td>\n",
       "      <td>2020-10-28 10:42:19h</td>\n",
       "    </tr>\n",
       "    <tr>\n",
       "      <th>0</th>\n",
       "      <td>ALTGR3</td>\n",
       "      <td>Age (age classes of relevance to infrastructure)</td>\n",
       "      <td>The age of the person refers to the completed year of life  on 9 May 2011. The breakdown into age classes of relevance  to infrastructure can serve as a basis for the planning of  infrastructure and welfare services of all kinds and thus  to establish tailored concepts for action and measures for  different age classes.</td>\n",
       "      <td>2020-10-28 10:42:20h</td>\n",
       "    </tr>\n",
       "    <tr>\n",
       "      <th>0</th>\n",
       "      <td>ALTGR4</td>\n",
       "      <td>Age (age classes of relevance to market research)</td>\n",
       "      <td>The age of the person is the completed year of life on the  reference date, 9 May 2011. The age groups of relevance to  market research offer a breakdown based on the  requirements and guidelines with specific population  definitions. The differentiated view of the under-18s is  of special significance for market research studies.</td>\n",
       "      <td>2020-10-28 10:42:21h</td>\n",
       "    </tr>\n",
       "    <tr>\n",
       "      <th>...</th>\n",
       "      <td>...</td>\n",
       "      <td>...</td>\n",
       "      <td>...</td>\n",
       "      <td>...</td>\n",
       "    </tr>\n",
       "    <tr>\n",
       "      <th>0</th>\n",
       "      <td>WHGEG1</td>\n",
       "      <td>Ownership of the dwelling</td>\n",
       "      <td>This variable reflects who owns an owner-occupied dwelling  in a building divided up pursuant to the Act on Owner- Occupied Dwellings. These can be private citizens or legal  persons.  The recorded figures for \"Ownership of dwelling\" represent a part of the dwellings of the considered regional unit. The result table only shows commonhold dwellings.</td>\n",
       "      <td>2021-01-13 14:09:23h</td>\n",
       "    </tr>\n",
       "    <tr>\n",
       "      <th>0</th>\n",
       "      <td>WHGFL2</td>\n",
       "      <td>Floor area of the dwelling (10m² intervals)</td>\n",
       "      <td>Floor area of the entire dwelling in m². The dwelling  includes rooms outside the dwelling unit (e.g. attics) and  cellars and compartments which have been developed for  habitation. The total floor area is calculated using the  following percentages for different parts of the dwelling:  - 100%: the floor area of rooms/parts of rooms with a  ceiling height of at least 2 metres; - 50%: the floor area  of rooms/parts of rooms with a ceiling height of at least  1 metre but less than 2 metres; unheated conservatories,  swimming pools and similar fully enclosed rooms; -  generally 25% but at most 50%: the areas of balconies,  verandas, roof gardens, patios. The floor area data are  broken down into 10 m² intervals.</td>\n",
       "      <td>2022-11-03 09:25:08h</td>\n",
       "    </tr>\n",
       "    <tr>\n",
       "      <th>0</th>\n",
       "      <td>WHGFL3</td>\n",
       "      <td>Floor area of the dwelling (20m² intervals)</td>\n",
       "      <td>Floor area of the entire dwelling in m². The dwelling  includes rooms outside the dwelling unit (e.g. attics) and  cellars and compartments which have been developed for  habitation. The total floor area is calculated using the  following percentages for different parts of the dwelling:  - 100%: the floor area of rooms/parts of rooms with a  ceiling height of at least 2 metres; - 50%: the floor area  of rooms/parts of rooms with a ceiling height of at least  1 metre but less than 2 metres; unheated conservatories,  swimming pools and similar fully enclosed rooms; -  generally 25% but at most 50%: the areas of balconies,  verandas, roof gardens, patios. The floor area data are  broken down into 20 m² intervals.</td>\n",
       "      <td>2020-11-27 14:39:47h</td>\n",
       "    </tr>\n",
       "    <tr>\n",
       "      <th>0</th>\n",
       "      <td>WHGNZ1</td>\n",
       "      <td>Type of use of the dwelling</td>\n",
       "      <td>The type of use of dwelling describes whether and by whom  (tenant or owner) the dwelling is being used on the  reference date.</td>\n",
       "      <td>2022-11-03 09:24:29h</td>\n",
       "    </tr>\n",
       "    <tr>\n",
       "      <th>0</th>\n",
       "      <td>WHGRM2</td>\n",
       "      <td>Rooms</td>\n",
       "      <td>The number of rooms comprises all living rooms, dining  rooms and bedrooms and other separate rooms (e.g.  habitable cellars and compartments) of at least 6 m² as  well as enclosed kitchens, irrespective of their size.  Bathrooms, toilets, halls and utility rooms are not  usually included. A living room with a corner for dining,  sleeping or cooking in is counted as one room. This means  that dwellings in which there are no dividing walls  between the different parts of the dwelling (e.g. loft  apartments) are regarded as consisting of a single room.</td>\n",
       "      <td>2022-11-03 09:23:39h</td>\n",
       "    </tr>\n",
       "  </tbody>\n",
       "</table>\n",
       "<p>134 rows × 4 columns</p>\n",
       "</div>"
      ],
      "text/plain": [
       "      Code                                            Content  \\\n",
       "0   ALTER1                                Age (yearly stages)   \n",
       "0   ALTGR1                        Age (five years age groups)   \n",
       "0   ALTGR2                         Age (ten years age groups)   \n",
       "0   ALTGR3   Age (age classes of relevance to infrastructure)   \n",
       "0   ALTGR4  Age (age classes of relevance to market research)   \n",
       "..     ...                                                ...   \n",
       "0   WHGEG1                          Ownership of the dwelling   \n",
       "0   WHGFL2        Floor area of the dwelling (10m² intervals)   \n",
       "0   WHGFL3        Floor area of the dwelling (20m² intervals)   \n",
       "0   WHGNZ1                        Type of use of the dwelling   \n",
       "0   WHGRM2                                              Rooms   \n",
       "\n",
       "                                                                                                                                                                                                                                                                                                                                                                                                                                                                                                                                                                                                                                                                                                                                         Information  \\\n",
       "0                                                                                                                                                                                                                                                                                                                                                                                                                                                                                                                                                                                                                               The age of the person refers to the completed year of life  on 9 May 2011. Broken down into individual years of age.   \n",
       "0                                                                                                                                                                                                                                                                                                                                                                                                                                                                                                                                              The age of the person refers to the completed year of life  on 9 May 2011. This variable indicates a person's age  group for reference date 9 May 2011. The ages are cited in  five years age groups.   \n",
       "0                                                                                                                                                                                                                                                                                                                                                                                                                                                                                                                                               The age of the person refers to the completed year of life  on 9 May 2011. This variable indicates a person's age  group for reference date 9 May 2011. The ages are cited in  ten years age groups.   \n",
       "0                                                                                                                                                                                                                                                                                                                                                                                                                  The age of the person refers to the completed year of life  on 9 May 2011. The breakdown into age classes of relevance  to infrastructure can serve as a basis for the planning of  infrastructure and welfare services of all kinds and thus  to establish tailored concepts for action and measures for  different age classes.   \n",
       "0                                                                                                                                                                                                                                                                                                                                                                                                       The age of the person is the completed year of life on the  reference date, 9 May 2011. The age groups of relevance to  market research offer a breakdown based on the  requirements and guidelines with specific population  definitions. The differentiated view of the under-18s is  of special significance for market research studies.   \n",
       "..                                                                                                                                                                                                                                                                                                                                                                                                                                                                                                                                                                                                                                                                                                                                               ...   \n",
       "0                                                                                                                                                                                                                                                                                                                                                                                     This variable reflects who owns an owner-occupied dwelling  in a building divided up pursuant to the Act on Owner- Occupied Dwellings. These can be private citizens or legal  persons.  The recorded figures for \"Ownership of dwelling\" represent a part of the dwellings of the considered regional unit. The result table only shows commonhold dwellings.   \n",
       "0    Floor area of the entire dwelling in m². The dwelling  includes rooms outside the dwelling unit (e.g. attics) and  cellars and compartments which have been developed for  habitation. The total floor area is calculated using the  following percentages for different parts of the dwelling:  - 100%: the floor area of rooms/parts of rooms with a  ceiling height of at least 2 metres; - 50%: the floor area  of rooms/parts of rooms with a ceiling height of at least  1 metre but less than 2 metres; unheated conservatories,  swimming pools and similar fully enclosed rooms; -  generally 25% but at most 50%: the areas of balconies,  verandas, roof gardens, patios. The floor area data are  broken down into 10 m² intervals.   \n",
       "0    Floor area of the entire dwelling in m². The dwelling  includes rooms outside the dwelling unit (e.g. attics) and  cellars and compartments which have been developed for  habitation. The total floor area is calculated using the  following percentages for different parts of the dwelling:  - 100%: the floor area of rooms/parts of rooms with a  ceiling height of at least 2 metres; - 50%: the floor area  of rooms/parts of rooms with a ceiling height of at least  1 metre but less than 2 metres; unheated conservatories,  swimming pools and similar fully enclosed rooms; -  generally 25% but at most 50%: the areas of balconies,  verandas, roof gardens, patios. The floor area data are  broken down into 20 m² intervals.   \n",
       "0                                                                                                                                                                                                                                                                                                                                                                                                                                                                                                                                                                                                                    The type of use of dwelling describes whether and by whom  (tenant or owner) the dwelling is being used on the  reference date.   \n",
       "0                                                                                                                                                                       The number of rooms comprises all living rooms, dining  rooms and bedrooms and other separate rooms (e.g.  habitable cellars and compartments) of at least 6 m² as  well as enclosed kitchens, irrespective of their size.  Bathrooms, toilets, halls and utility rooms are not  usually included. A living room with a corner for dining,  sleeping or cooking in is counted as one room. This means  that dwellings in which there are no dividing walls  between the different parts of the dwelling (e.g. loft  apartments) are regarded as consisting of a single room.   \n",
       "\n",
       "                 Updated  \n",
       "0   2022-05-09 15:37:41h  \n",
       "0   2020-10-28 10:42:15h  \n",
       "0   2020-10-28 10:42:19h  \n",
       "0   2020-10-28 10:42:20h  \n",
       "0   2020-10-28 10:42:21h  \n",
       "..                   ...  \n",
       "0   2021-01-13 14:09:23h  \n",
       "0   2022-11-03 09:25:08h  \n",
       "0   2020-11-27 14:39:47h  \n",
       "0   2022-11-03 09:24:29h  \n",
       "0   2022-11-03 09:23:39h  \n",
       "\n",
       "[134 rows x 4 columns]"
      ]
     },
     "execution_count": 180,
     "metadata": {},
     "output_type": "execute_result"
    }
   ],
   "source": [
    "metadataVariable"
   ]
  },
  {
   "cell_type": "code",
   "execution_count": null,
   "metadata": {},
   "outputs": [],
   "source": []
  },
  {
   "cell_type": "code",
   "execution_count": 181,
   "metadata": {},
   "outputs": [],
   "source": [
    "tabCodes=[]"
   ]
  },
  {
   "cell_type": "code",
   "execution_count": 182,
   "metadata": {},
   "outputs": [],
   "source": [
    "for item in tableCodes:\n",
    "    tabCodes.append(item.get(\"Code\"))"
   ]
  },
  {
   "cell_type": "code",
   "execution_count": 183,
   "metadata": {},
   "outputs": [
    {
     "data": {
      "text/plain": [
       "['6000F-2002', '6000F-2003', '6000F-2004', '6000F-3001', '6000F-3002']"
      ]
     },
     "execution_count": 183,
     "metadata": {},
     "output_type": "execute_result"
    }
   ],
   "source": [
    "tabCodes[-5:]"
   ]
  },
  {
   "cell_type": "code",
   "execution_count": 184,
   "metadata": {},
   "outputs": [],
   "source": [
    "def metaTab(tab):\n",
    "\n",
    "    metadata = requests.get(BASE_URL + 'metadata/table', params={\n",
    "        'username': USERNAME,\n",
    "        'password': PASSWORD,\n",
    "        'language': langPref,\n",
    "        'name': tab\n",
    "    })\n",
    "    \n",
    "    return(metadata.json()[\"Object\"])"
   ]
  },
  {
   "cell_type": "code",
   "execution_count": 185,
   "metadata": {},
   "outputs": [],
   "source": [
    "metadataTable = pd.DataFrame()"
   ]
  },
  {
   "cell_type": "code",
   "execution_count": 186,
   "metadata": {},
   "outputs": [],
   "source": [
    "for code in tabCodes:\n",
    "\n",
    "    myObject = metaTab(code)\n",
    "    \n",
    "    try:\n",
    "        myCol2= myObject[\"Structure\"][\"Columns\"][1][\"Code\"]\n",
    "    except:\n",
    "        myCol2= \"\"\n",
    "    try:\n",
    "        myCol3= myObject[\"Structure\"][\"Columns\"][2][\"Code\"]\n",
    "    except:\n",
    "        myCol3= \"\"\n",
    "    \n",
    "    try:\n",
    "        myRow2= myObject[\"Structure\"][\"Rows\"][0][\"Structure\"][0][\"Code\"]\n",
    "    except:\n",
    "        myRow2= \"\"     \n",
    "    try:\n",
    "        myRow3= myObject[\"Structure\"][\"Rows\"][0][\"Structure\"][0][\"Structure\"][0][\"Code\"]\n",
    "    except:\n",
    "        myRow3= \"\"\n",
    "        \n",
    "    metadataTable = pd.concat([metadataTable, pd.DataFrame({\"Code\": myObject[\"Code\"], \\\n",
    "                                                          \"Content\": myObject[\"Content\"], \\\n",
    "                                                          \"Col1\": myObject[\"Structure\"][\"Columns\"][0][\"Code\"], \\\n",
    "                                                          \"Col2\": myCol2, \\\n",
    "                                                          \"Col3\": myCol3, \\\n",
    "                                                          \"Row1\": myObject[\"Structure\"][\"Rows\"][0][\"Code\"], \\\n",
    "                                                          \"Row2\": myRow2, \\\n",
    "                                                          \"Row3\": myRow3, \\\n",
    "                                                          \"Updated\": myObject[\"Updated\"]},\\\n",
    "                                                          index=[0])])"
   ]
  },
  {
   "cell_type": "code",
   "execution_count": 187,
   "metadata": {},
   "outputs": [
    {
     "data": {
      "text/html": [
       "<div>\n",
       "<style scoped>\n",
       "    .dataframe tbody tr th:only-of-type {\n",
       "        vertical-align: middle;\n",
       "    }\n",
       "\n",
       "    .dataframe tbody tr th {\n",
       "        vertical-align: top;\n",
       "    }\n",
       "\n",
       "    .dataframe thead th {\n",
       "        text-align: right;\n",
       "    }\n",
       "</style>\n",
       "<table border=\"1\" class=\"dataframe\">\n",
       "  <thead>\n",
       "    <tr style=\"text-align: right;\">\n",
       "      <th></th>\n",
       "      <th>Code</th>\n",
       "      <th>Content</th>\n",
       "      <th>Col1</th>\n",
       "      <th>Col2</th>\n",
       "      <th>Col3</th>\n",
       "      <th>Row1</th>\n",
       "      <th>Row2</th>\n",
       "      <th>Row3</th>\n",
       "      <th>Updated</th>\n",
       "    </tr>\n",
       "  </thead>\n",
       "  <tbody>\n",
       "    <tr>\n",
       "      <th>0</th>\n",
       "      <td>1000A-0001</td>\n",
       "      <td>Persons: Official population and area (municipalities)</td>\n",
       "      <td>PRS018</td>\n",
       "      <td>FLC001</td>\n",
       "      <td>PRS017</td>\n",
       "      <td>GEOGM1</td>\n",
       "      <td></td>\n",
       "      <td></td>\n",
       "      <td>2022-01-20 08:17:38h</td>\n",
       "    </tr>\n",
       "    <tr>\n",
       "      <th>0</th>\n",
       "      <td>1000A-1001</td>\n",
       "      <td>Persons: Age (ten years age groups)</td>\n",
       "      <td>GEODL1</td>\n",
       "      <td>GEOBL1</td>\n",
       "      <td></td>\n",
       "      <td>ALTGR2</td>\n",
       "      <td></td>\n",
       "      <td></td>\n",
       "      <td>2022-03-21 13:56:14h</td>\n",
       "    </tr>\n",
       "    <tr>\n",
       "      <th>0</th>\n",
       "      <td>1000A-1002</td>\n",
       "      <td>Persons: Age (eleven classes of years)</td>\n",
       "      <td>GEODL1</td>\n",
       "      <td>GEOBL1</td>\n",
       "      <td></td>\n",
       "      <td>ALTKL2</td>\n",
       "      <td></td>\n",
       "      <td></td>\n",
       "      <td>2022-03-21 13:56:14h</td>\n",
       "    </tr>\n",
       "    <tr>\n",
       "      <th>0</th>\n",
       "      <td>1000A-1003</td>\n",
       "      <td>Persons: Age (five classes of years)</td>\n",
       "      <td>GEODL1</td>\n",
       "      <td>GEOBL1</td>\n",
       "      <td></td>\n",
       "      <td>ALTKL1</td>\n",
       "      <td></td>\n",
       "      <td></td>\n",
       "      <td>2022-03-21 13:56:14h</td>\n",
       "    </tr>\n",
       "    <tr>\n",
       "      <th>0</th>\n",
       "      <td>1000A-1004</td>\n",
       "      <td>Persons: Age (five years age groups)</td>\n",
       "      <td>GEODL1</td>\n",
       "      <td>GEOBL1</td>\n",
       "      <td></td>\n",
       "      <td>ALTGR1</td>\n",
       "      <td></td>\n",
       "      <td></td>\n",
       "      <td>2022-03-21 13:56:14h</td>\n",
       "    </tr>\n",
       "    <tr>\n",
       "      <th>...</th>\n",
       "      <td>...</td>\n",
       "      <td>...</td>\n",
       "      <td>...</td>\n",
       "      <td>...</td>\n",
       "      <td>...</td>\n",
       "      <td>...</td>\n",
       "      <td>...</td>\n",
       "      <td>...</td>\n",
       "      <td>...</td>\n",
       "    </tr>\n",
       "    <tr>\n",
       "      <th>0</th>\n",
       "      <td>6000F-2002</td>\n",
       "      <td>Families: Size of private household - Senior citizen\\nstatus/Type of private household (by family)</td>\n",
       "      <td>GEODL1</td>\n",
       "      <td></td>\n",
       "      <td></td>\n",
       "      <td>HSHGR2</td>\n",
       "      <td>HSHSE1</td>\n",
       "      <td></td>\n",
       "      <td>2021-01-13 16:05:49h</td>\n",
       "    </tr>\n",
       "    <tr>\n",
       "      <th>0</th>\n",
       "      <td>6000F-2003</td>\n",
       "      <td>Families: Type of private household (by family) - Senior\\ncitizen status of a private household</td>\n",
       "      <td>GEODL1</td>\n",
       "      <td></td>\n",
       "      <td></td>\n",
       "      <td>HSHTP1</td>\n",
       "      <td>HSHSE1</td>\n",
       "      <td></td>\n",
       "      <td>2020-12-16 08:20:34h</td>\n",
       "    </tr>\n",
       "    <tr>\n",
       "      <th>0</th>\n",
       "      <td>6000F-2004</td>\n",
       "      <td>Families: Size of family nucleus/Type of family nucleus\\n(by family) - Equipment in dwelling/Floor area of the\\ndwelling (20m² intervals)/Rooms</td>\n",
       "      <td>GEODL1</td>\n",
       "      <td></td>\n",
       "      <td></td>\n",
       "      <td>FAMGR2</td>\n",
       "      <td>WHGAS1</td>\n",
       "      <td></td>\n",
       "      <td>2021-08-31 11:26:56h</td>\n",
       "    </tr>\n",
       "    <tr>\n",
       "      <th>0</th>\n",
       "      <td>6000F-3001</td>\n",
       "      <td>Families: Size of private household - Senior citizen status\\n- Type of private household (by family)</td>\n",
       "      <td>GEODL1</td>\n",
       "      <td></td>\n",
       "      <td></td>\n",
       "      <td>HSHGR2</td>\n",
       "      <td>HSHSE1</td>\n",
       "      <td>HSHTP1</td>\n",
       "      <td>2020-12-16 08:21:09h</td>\n",
       "    </tr>\n",
       "    <tr>\n",
       "      <th>0</th>\n",
       "      <td>6000F-3002</td>\n",
       "      <td>Families: Size of family nucleus - Type of family nucleus\\n(by family) - Equipment in dwelling/Floor area of the\\ndwelling (20m² intervals)/Rooms</td>\n",
       "      <td>GEODL1</td>\n",
       "      <td></td>\n",
       "      <td></td>\n",
       "      <td>FAMGR2</td>\n",
       "      <td>FAMTP1</td>\n",
       "      <td>WHGAS1</td>\n",
       "      <td>2021-02-01 12:25:04h</td>\n",
       "    </tr>\n",
       "  </tbody>\n",
       "</table>\n",
       "<p>754 rows × 9 columns</p>\n",
       "</div>"
      ],
      "text/plain": [
       "          Code  \\\n",
       "0   1000A-0001   \n",
       "0   1000A-1001   \n",
       "0   1000A-1002   \n",
       "0   1000A-1003   \n",
       "0   1000A-1004   \n",
       "..         ...   \n",
       "0   6000F-2002   \n",
       "0   6000F-2003   \n",
       "0   6000F-2004   \n",
       "0   6000F-3001   \n",
       "0   6000F-3002   \n",
       "\n",
       "                                                                                                                                              Content  \\\n",
       "0                                                                                              Persons: Official population and area (municipalities)   \n",
       "0                                                                                                                 Persons: Age (ten years age groups)   \n",
       "0                                                                                                              Persons: Age (eleven classes of years)   \n",
       "0                                                                                                                Persons: Age (five classes of years)   \n",
       "0                                                                                                                Persons: Age (five years age groups)   \n",
       "..                                                                                                                                                ...   \n",
       "0                                                  Families: Size of private household - Senior citizen\\nstatus/Type of private household (by family)   \n",
       "0                                                     Families: Type of private household (by family) - Senior\\ncitizen status of a private household   \n",
       "0     Families: Size of family nucleus/Type of family nucleus\\n(by family) - Equipment in dwelling/Floor area of the\\ndwelling (20m² intervals)/Rooms   \n",
       "0                                                Families: Size of private household - Senior citizen status\\n- Type of private household (by family)   \n",
       "0   Families: Size of family nucleus - Type of family nucleus\\n(by family) - Equipment in dwelling/Floor area of the\\ndwelling (20m² intervals)/Rooms   \n",
       "\n",
       "      Col1    Col2    Col3    Row1    Row2    Row3               Updated  \n",
       "0   PRS018  FLC001  PRS017  GEOGM1                  2022-01-20 08:17:38h  \n",
       "0   GEODL1  GEOBL1          ALTGR2                  2022-03-21 13:56:14h  \n",
       "0   GEODL1  GEOBL1          ALTKL2                  2022-03-21 13:56:14h  \n",
       "0   GEODL1  GEOBL1          ALTKL1                  2022-03-21 13:56:14h  \n",
       "0   GEODL1  GEOBL1          ALTGR1                  2022-03-21 13:56:14h  \n",
       "..     ...     ...     ...     ...     ...     ...                   ...  \n",
       "0   GEODL1                  HSHGR2  HSHSE1          2021-01-13 16:05:49h  \n",
       "0   GEODL1                  HSHTP1  HSHSE1          2020-12-16 08:20:34h  \n",
       "0   GEODL1                  FAMGR2  WHGAS1          2021-08-31 11:26:56h  \n",
       "0   GEODL1                  HSHGR2  HSHSE1  HSHTP1  2020-12-16 08:21:09h  \n",
       "0   GEODL1                  FAMGR2  FAMTP1  WHGAS1  2021-02-01 12:25:04h  \n",
       "\n",
       "[754 rows x 9 columns]"
      ]
     },
     "execution_count": 187,
     "metadata": {},
     "output_type": "execute_result"
    }
   ],
   "source": [
    "metadataTable"
   ]
  },
  {
   "cell_type": "code",
   "execution_count": 188,
   "metadata": {},
   "outputs": [],
   "source": [
    "with pd.ExcelWriter(\"census2011_toc_\"+langPref+\".xlsx\") as writer:  \n",
    "\n",
    "    metadataVariable.to_excel(writer, sheet_name='variables', index=False)\n",
    "    metadataTable.to_excel(writer, sheet_name='tables', index=False)"
   ]
  },
  {
   "cell_type": "code",
   "execution_count": null,
   "metadata": {},
   "outputs": [],
   "source": []
  }
 ],
 "metadata": {
  "kernelspec": {
   "display_name": "panda2",
   "language": "python",
   "name": "panda2"
  },
  "language_info": {
   "codemirror_mode": {
    "name": "ipython",
    "version": 3
   },
   "file_extension": ".py",
   "mimetype": "text/x-python",
   "name": "python",
   "nbconvert_exporter": "python",
   "pygments_lexer": "ipython3",
   "version": "3.11.3"
  }
 },
 "nbformat": 4,
 "nbformat_minor": 4
}
