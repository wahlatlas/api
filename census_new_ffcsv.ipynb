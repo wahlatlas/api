{
 "cells": [
  {
   "cell_type": "markdown",
   "metadata": {},
   "source": [
    "# Census 2022 Results for Germany - Accessing the Data API with Python/Pandas\n",
    "Get your free account at  \n",
    "https://ergebnisse2011.zensus2022.de/datenbank/online#modal=register  \n",
    "API Documentation (latest update 2023-11-27)  \n",
    "German\n",
    "https://ergebnisse2011.zensus2022.de/datenbank/online/docs/ZENSUS-Webservices_Einfuehrung.pdf  \n",
    "English\n",
    "https://ergebnisse2011.zensus2022.de/datenbank/online/docs/ZENSUS-Webservices_Introduction.pdf"
   ]
  },
  {
   "cell_type": "code",
   "execution_count": 1,
   "metadata": {
    "tags": []
   },
   "outputs": [],
   "source": [
    "import pandas as pd\n",
    "import requests\n",
    "import json\n",
    "import io\n",
    "from dotenv import dotenv_values, load_dotenv\n",
    "import datetime"
   ]
  },
  {
   "cell_type": "code",
   "execution_count": 2,
   "metadata": {},
   "outputs": [
    {
     "data": {
      "text/plain": [
       "'2.1.1'"
      ]
     },
     "execution_count": 2,
     "metadata": {},
     "output_type": "execute_result"
    }
   ],
   "source": [
    "pd.__version__"
   ]
  },
  {
   "cell_type": "code",
   "execution_count": 3,
   "metadata": {},
   "outputs": [],
   "source": [
    "# convenience function for timestamps while logging\n",
    "def tStamp():\n",
    "    return datetime.datetime.now().strftime(\"%Y-%m-%d %H:%M:%S\")"
   ]
  },
  {
   "cell_type": "code",
   "execution_count": 4,
   "metadata": {
    "tags": []
   },
   "outputs": [],
   "source": [
    "# Load credentials from .env file\n",
    "load_dotenv()  \n",
    "usr, pwd = dotenv_values().values()"
   ]
  },
  {
   "cell_type": "markdown",
   "metadata": {
    "tags": []
   },
   "source": [
    "## URL will likely change with 2022 results"
   ]
  },
  {
   "cell_type": "code",
   "execution_count": 5,
   "metadata": {
    "tags": []
   },
   "outputs": [],
   "source": [
    "# Set base path for API calls\n",
    "BASE_URL = 'https://ergebnisse2011.zensus2022.de/api/rest/2020/'"
   ]
  },
  {
   "cell_type": "markdown",
   "metadata": {},
   "source": [
    "## Check credentials, network and endpoint availability\n",
    "Status may also return 'exceeded limit of parallel jobs'  \n",
    "which can happen after too many failures and will suspend the user temporarily"
   ]
  },
  {
   "cell_type": "code",
   "execution_count": 6,
   "metadata": {},
   "outputs": [
    {
     "name": "stdout",
     "output_type": "stream",
     "text": [
      "You have been logged in and out successfully!\n"
     ]
    }
   ],
   "source": [
    "try:\n",
    "    hello = requests.get(BASE_URL + 'helloworld/logincheck', params={\n",
    "        'username': usr,\n",
    "        'password': pwd,\n",
    "        'language': 'en'\n",
    "        }, timeout=300)\n",
    "    \n",
    "    print(hello.json()[\"Status\"])\n",
    "\n",
    "except:\n",
    "    print(tStamp()+\" : \"+usr+\" failed\")"
   ]
  },
  {
   "cell_type": "markdown",
   "metadata": {},
   "source": [
    "## Basic table download function\n",
    "* be kind to the database\n",
    "* only request the data-depth that you need\n",
    "* download municipality data to disk, it changes only once a decade\n",
    "* parallel downloads don't work"
   ]
  },
  {
   "cell_type": "code",
   "execution_count": 7,
   "metadata": {},
   "outputs": [],
   "source": [
    "# this takes a RESTful/JSON response as input\n",
    "# usually from the 'data/tablefile' service\n",
    "\n",
    "def response2disk(resp):\n",
    "\n",
    "    filename = resp.headers[\"Content-Disposition\"].split(\"=\")[1]\n",
    "\n",
    "    destination = \"download/\"+filename\n",
    "            \n",
    "    with open(destination, 'wb') as f:\n",
    "        \n",
    "        f.write(resp.content)\n",
    "\n",
    "    print(tStamp(), filename, \"download complete\")"
   ]
  },
  {
   "cell_type": "markdown",
   "metadata": {},
   "source": [
    "## Method “tablefile“ starts a value retrieval and returns a table\n",
    "* example function fetches municipal data for selected regions (SH, HH, NI, MV)\n",
    "* this makes sense if your repeated table requests always cover the same region \n",
    "* make sure regionalvariable exists for table in question\n",
    "* e.g. 2000S (sample) tables are only available for GEOGM3 (pop >10k)\n",
    "* there can be up to 5 pairs of classifying-variable and -key"
   ]
  },
  {
   "cell_type": "code",
   "execution_count": 8,
   "metadata": {},
   "outputs": [],
   "source": [
    "def tab2download(tabl, classVar1=\"\", classKey1=\"\", classVar2=\"\", classKey2=\"\"):\n",
    "\n",
    "    if tabl.find(\"S\") == 4:\n",
    "\n",
    "        regio = \"GEOGM3\" # municipalities, pop >10k\n",
    "    \n",
    "    else:\n",
    "\n",
    "        regio = \"GEOGM1\" # municipalities, 11k for all of Germany\n",
    "    \n",
    "    try:\n",
    "\n",
    "        response = requests.get(BASE_URL + 'data/tablefile', params={\n",
    "            'username': usr,\n",
    "            'password': pwd,\n",
    "            'name': tabl,\n",
    "            'regionalvariable': regio,       \n",
    "            'regionalkey': \"01*,02*,03*,13*\",  # e.g. NDR Sendegebiet\n",
    "            'classifyingvariable1': classVar1,\n",
    "            'classifyingkey1': classKey1,           \n",
    "            'classifyingvariable2': classVar2,\n",
    "            'classifyingkey2': classKey2,           \n",
    "            'format': \"ffcsv\",\n",
    "            'quality': \"on\", # include quality symbols, see below\n",
    "            'language': \"de\",\n",
    "            'job': \"false\"   # get the data directly\n",
    "            }, timeout=600)  # large tables may take some time\n",
    "\n",
    "        try:\n",
    "            response2disk(response)  # save to disk for re-use\n",
    "            return(response.content) # use directly from memory\n",
    "\n",
    "        except:\n",
    "        \n",
    "            if response.status_code == 200:\n",
    "                \n",
    "                # here the api will tell you if your request could not be processed\n",
    "                # e.g.\n",
    "                # 'Code': 25, 'Content': 'Mindestens ein Parameter enthält ungültige Werte'\n",
    "                # 'Code': 90, 'Content': 'Die angeforderte Tabelle ist nicht vorhanden.'\n",
    "                \n",
    "                try:\n",
    "                    print(tStamp()+\" : \"+tabl+\" : \"+str(response.json()[\"Status\"])[0:80])\n",
    "                except:\n",
    "                    # in case response isn't json formatted\n",
    "                    print(tStamp()+\" : \"+tabl+\" : \"+str(response.text[0:300]))\n",
    "            \n",
    "            else:\n",
    "                # log if api times out or otherwise disconnects (500, 404...)\n",
    "                print(tStamp()+\" : \"+tabl+\" http code \"+str(response.status_code))\n",
    "\n",
    "    except requests.exceptions.Timeout:\n",
    "\n",
    "        # log if this request has hit its own timeout limit as set above\n",
    "        print(tStamp()+\" : \"+tabl + \" timed out\")"
   ]
  },
  {
   "cell_type": "markdown",
   "metadata": {},
   "source": [
    "### Explanation of symbols\n",
    "`e`   final value  \n",
    "`-`   Exactly zero or adjusted to zero  \n",
    "`()`  Limited information value because the numerical value may have been modified relatively strongly by the confidentiality procedure\n",
    "#### for Sample Data\n",
    "`/`   No data because the numerical value is not sufficiently reliable  \n",
    "`-`   no figures"
   ]
  },
  {
   "cell_type": "markdown",
   "metadata": {},
   "source": [
    "### ffcsv will be delivered as zip starting in Feb 2024"
   ]
  },
  {
   "cell_type": "code",
   "execution_count": 9,
   "metadata": {},
   "outputs": [],
   "source": [
    "# this will read the current csv from memory and returns a dataframe\n",
    "# some assumptions regarding type conversion are applied\n",
    "# when in doubt read everything as string first\n",
    "# reading from disk works accordingly\n",
    "# pandas reads zipped csv files directly\n",
    "\n",
    "def table2df(ffcsv):\n",
    "\n",
    "    # BytesIO covers utf-8 but should also work with zipped content\n",
    "    csvInput = io.BytesIO(ffcsv)\n",
    "\n",
    "    # decimal setting for german default\n",
    "    df = pd.read_csv(csvInput, delimiter = ';', decimal = \",\", \n",
    "                     # quality indicators (strings) may replace numerical values\n",
    "                     na_values = [\"...\",\".\",\"-\",\"/\",\"x\"],\n",
    "                     # regional key (ARS, AGS) has leading zeroes, force as string\n",
    "                     dtype = {\"1_variable_attribute_code\": str})\n",
    "\n",
    "    return(df)"
   ]
  },
  {
   "cell_type": "markdown",
   "metadata": {},
   "source": [
    "## Example Table \"5000H-2005\" \n",
    "#### Haushalte: Größe des privaten Haushalts - Ausstattung der Wohnung/Fläche der Wohnung (20 m²-Intervalle)/Räume\n",
    "Notice the slashes: On the second axis `/` denote variable features of which the first is selected by default  \n",
    "Maybe experiment with all the options on the web first, switch on 'code' wherever possible, then come back here  \n",
    "https://ergebnisse2011.zensus2022.de/datenbank/online/statistic/5000H/table/5000H-2005"
   ]
  },
  {
   "cell_type": "code",
   "execution_count": 17,
   "metadata": {},
   "outputs": [
    {
     "name": "stdout",
     "output_type": "stream",
     "text": [
      "2024-01-30 16:14:30 : 5000H-2905 : {'Code': 90, 'Content': 'Die angeforderte Tabelle ist nicht vorhanden. Bitte prü\n"
     ]
    }
   ],
   "source": [
    "# download single table, deliberate typo, table doesn't exist\n",
    "myTable = tab2download(\"5000H-2905\")"
   ]
  },
  {
   "cell_type": "code",
   "execution_count": 11,
   "metadata": {},
   "outputs": [
    {
     "name": "stdout",
     "output_type": "stream",
     "text": [
      "2024-01-30 16:09:35 5000H-2005_flat.csv download complete\n"
     ]
    }
   ],
   "source": [
    "# try again, now with correct name\n",
    "myTable = tab2download(\"5000H-2005\")"
   ]
  },
  {
   "cell_type": "markdown",
   "metadata": {},
   "source": [
    "#### Switching to \"Fläche der Wohnung (20 m²-Intervalle)\" instead of the default \"Ausstattung der Wohnung\"\n",
    "Use classifying variable/key pairs to refine the table, e.g. Single Households only that occupy the largest floor space "
   ]
  },
  {
   "cell_type": "code",
   "execution_count": 12,
   "metadata": {},
   "outputs": [
    {
     "name": "stdout",
     "output_type": "stream",
     "text": [
      "2024-01-30 16:10:30 5000H-2005_flat.csv download complete\n"
     ]
    }
   ],
   "source": [
    "# pruned table for a specific research question\n",
    "myTable = tab2download(\"5000H-2005\", \"HSHGR2\", \"PERSON01\", \"WHGFL3\", \"WFL200BXXX\")"
   ]
  },
  {
   "cell_type": "markdown",
   "metadata": {},
   "source": [
    "#### Example Table with Sample Data: 2000S-2029\n",
    "Personen: Höchster beruflicher Abschluss (ausführlich) - Art der Wohnungsnutzung/Gebäudetyp (Bauweise)/Gebäudetyp (Größe)  \n",
    "https://ergebnisse2011.zensus2022.de/datenbank/online/table/2000S-2029"
   ]
  },
  {
   "cell_type": "code",
   "execution_count": 13,
   "metadata": {},
   "outputs": [
    {
     "name": "stdout",
     "output_type": "stream",
     "text": [
      "2024-01-30 16:10:36 2000S-2029_flat.csv download complete\n"
     ]
    }
   ],
   "source": [
    "# Personen \"Ohne oder noch kein Schulabschluss\", die in freistehenden Einfamilienhäusern wohnen\n",
    "myTable = tab2download(\"2000S-2029\", \"BILBA1\", \"ABSCH-X\", \"GEBTP2\", \"GEB-EIN-FREI\")"
   ]
  },
  {
   "cell_type": "markdown",
   "metadata": {},
   "source": [
    "#### Example Table with Percentages: 1000A-1009\n",
    "Personen: ...  \n",
    "https://ergebnisse2011.zensus2022.de/datenbank/online/table/1000A-1009"
   ]
  },
  {
   "cell_type": "code",
   "execution_count": 14,
   "metadata": {},
   "outputs": [
    {
     "name": "stdout",
     "output_type": "stream",
     "text": [
      "2024-01-30 16:10:55 1000A-1009_flat.csv download complete\n"
     ]
    }
   ],
   "source": [
    "# Personen\n",
    "myTable = tab2download(\"1000A-1009\", \"FAMST1\", \"VERWITWET\")"
   ]
  },
  {
   "cell_type": "markdown",
   "metadata": {},
   "source": [
    "# New flatfile csv (ffcsv) datastructure\n",
    "* identical english variable lables in both en/de localizations\n",
    "* Colon `;` delimited for both de/en\n",
    "* Decimal point `.` in English but comma `,` in German\n",
    "* utf-8 via API (as always) and utf-8 with BOM via web\n",
    "* currently not sorted by regional key (may change in the future)\n",
    "* only one `value` column\n",
    "* counts and percentages mixed in this value\n",
    "* observe `value_unit` to see which is which\n",
    "* see `value_q` for how to interpret the data (see explanation of symbols above)\n",
    "* ffcsv always comes zip-compressed with matching filename of .zip and .csv"
   ]
  },
  {
   "cell_type": "code",
   "execution_count": 16,
   "metadata": {},
   "outputs": [
    {
     "data": {
      "text/html": [
       "<div>\n",
       "<style scoped>\n",
       "    .dataframe tbody tr th:only-of-type {\n",
       "        vertical-align: middle;\n",
       "    }\n",
       "\n",
       "    .dataframe tbody tr th {\n",
       "        vertical-align: top;\n",
       "    }\n",
       "\n",
       "    .dataframe thead th {\n",
       "        text-align: right;\n",
       "    }\n",
       "</style>\n",
       "<table border=\"1\" class=\"dataframe\">\n",
       "  <thead>\n",
       "    <tr style=\"text-align: right;\">\n",
       "      <th></th>\n",
       "      <th>statistics_code</th>\n",
       "      <th>statistics_label</th>\n",
       "      <th>time_code</th>\n",
       "      <th>time_label</th>\n",
       "      <th>time</th>\n",
       "      <th>1_variable_code</th>\n",
       "      <th>1_variable_label</th>\n",
       "      <th>1_variable_attribute_code</th>\n",
       "      <th>1_variable_attribute_label</th>\n",
       "      <th>2_variable_code</th>\n",
       "      <th>2_variable_label</th>\n",
       "      <th>2_variable_attribute_code</th>\n",
       "      <th>2_variable_attribute_label</th>\n",
       "      <th>value</th>\n",
       "      <th>value_unit</th>\n",
       "      <th>value_variable_code</th>\n",
       "      <th>value_variable_label</th>\n",
       "      <th>value_q</th>\n",
       "    </tr>\n",
       "  </thead>\n",
       "  <tbody>\n",
       "    <tr>\n",
       "      <th>0</th>\n",
       "      <td>1000A</td>\n",
       "      <td>Bevölkerung kompakt</td>\n",
       "      <td>STAG</td>\n",
       "      <td>Stichtag</td>\n",
       "      <td>2011-05-09</td>\n",
       "      <td>GEOGM1</td>\n",
       "      <td>Gemeinden</td>\n",
       "      <td>010585864147</td>\n",
       "      <td>Schülp b. Nortorf</td>\n",
       "      <td>FAMST1</td>\n",
       "      <td>Familienstand (ausführlich)</td>\n",
       "      <td>VERWITWET</td>\n",
       "      <td>Verwitwet</td>\n",
       "      <td>6.6</td>\n",
       "      <td>%</td>\n",
       "      <td>PRS018</td>\n",
       "      <td>Personen</td>\n",
       "      <td>e</td>\n",
       "    </tr>\n",
       "    <tr>\n",
       "      <th>1</th>\n",
       "      <td>1000A</td>\n",
       "      <td>Bevölkerung kompakt</td>\n",
       "      <td>STAG</td>\n",
       "      <td>Stichtag</td>\n",
       "      <td>2011-05-09</td>\n",
       "      <td>GEOGM1</td>\n",
       "      <td>Gemeinden</td>\n",
       "      <td>031545403025</td>\n",
       "      <td>Warberg</td>\n",
       "      <td>FAMST1</td>\n",
       "      <td>Familienstand (ausführlich)</td>\n",
       "      <td>NaN</td>\n",
       "      <td>Insgesamt</td>\n",
       "      <td>100.0</td>\n",
       "      <td>%</td>\n",
       "      <td>PRS018</td>\n",
       "      <td>Personen</td>\n",
       "      <td>e</td>\n",
       "    </tr>\n",
       "    <tr>\n",
       "      <th>2</th>\n",
       "      <td>1000A</td>\n",
       "      <td>Bevölkerung kompakt</td>\n",
       "      <td>STAG</td>\n",
       "      <td>Stichtag</td>\n",
       "      <td>2011-05-09</td>\n",
       "      <td>GEOGM1</td>\n",
       "      <td>Gemeinden</td>\n",
       "      <td>010595990109</td>\n",
       "      <td>Esgrus</td>\n",
       "      <td>FAMST1</td>\n",
       "      <td>Familienstand (ausführlich)</td>\n",
       "      <td>NaN</td>\n",
       "      <td>Insgesamt</td>\n",
       "      <td>100.0</td>\n",
       "      <td>%</td>\n",
       "      <td>PRS018</td>\n",
       "      <td>Personen</td>\n",
       "      <td>e</td>\n",
       "    </tr>\n",
       "    <tr>\n",
       "      <th>3</th>\n",
       "      <td>1000A</td>\n",
       "      <td>Bevölkerung kompakt</td>\n",
       "      <td>STAG</td>\n",
       "      <td>Stichtag</td>\n",
       "      <td>2011-05-09</td>\n",
       "      <td>GEOGM1</td>\n",
       "      <td>Gemeinden</td>\n",
       "      <td>010595952151</td>\n",
       "      <td>Osterby (Kreis Schleswig-Flensburg)</td>\n",
       "      <td>FAMST1</td>\n",
       "      <td>Familienstand (ausführlich)</td>\n",
       "      <td>VERWITWET</td>\n",
       "      <td>Verwitwet</td>\n",
       "      <td>3.5</td>\n",
       "      <td>%</td>\n",
       "      <td>PRS018</td>\n",
       "      <td>Personen</td>\n",
       "      <td>e</td>\n",
       "    </tr>\n",
       "    <tr>\n",
       "      <th>4</th>\n",
       "      <td>1000A</td>\n",
       "      <td>Bevölkerung kompakt</td>\n",
       "      <td>STAG</td>\n",
       "      <td>Stichtag</td>\n",
       "      <td>2011-05-09</td>\n",
       "      <td>GEOGM1</td>\n",
       "      <td>Gemeinden</td>\n",
       "      <td>010615138035</td>\n",
       "      <td>Heiligenstedtenerkamp</td>\n",
       "      <td>FAMST1</td>\n",
       "      <td>Familienstand (ausführlich)</td>\n",
       "      <td>NaN</td>\n",
       "      <td>Insgesamt</td>\n",
       "      <td>100.0</td>\n",
       "      <td>%</td>\n",
       "      <td>PRS018</td>\n",
       "      <td>Personen</td>\n",
       "      <td>e</td>\n",
       "    </tr>\n",
       "    <tr>\n",
       "      <th>...</th>\n",
       "      <td>...</td>\n",
       "      <td>...</td>\n",
       "      <td>...</td>\n",
       "      <td>...</td>\n",
       "      <td>...</td>\n",
       "      <td>...</td>\n",
       "      <td>...</td>\n",
       "      <td>...</td>\n",
       "      <td>...</td>\n",
       "      <td>...</td>\n",
       "      <td>...</td>\n",
       "      <td>...</td>\n",
       "      <td>...</td>\n",
       "      <td>...</td>\n",
       "      <td>...</td>\n",
       "      <td>...</td>\n",
       "      <td>...</td>\n",
       "      <td>...</td>\n",
       "    </tr>\n",
       "    <tr>\n",
       "      <th>5895</th>\n",
       "      <td>1000A</td>\n",
       "      <td>Bevölkerung kompakt</td>\n",
       "      <td>STAG</td>\n",
       "      <td>Stichtag</td>\n",
       "      <td>2011-05-09</td>\n",
       "      <td>GEOGM1</td>\n",
       "      <td>Gemeinden</td>\n",
       "      <td>130555517008</td>\n",
       "      <td>Brunn (Landkreis Mecklenburg-Strelitz)</td>\n",
       "      <td>FAMST1</td>\n",
       "      <td>Familienstand (ausführlich)</td>\n",
       "      <td>VERWITWET</td>\n",
       "      <td>Verwitwet</td>\n",
       "      <td>7.7</td>\n",
       "      <td>%</td>\n",
       "      <td>PRS018</td>\n",
       "      <td>Personen</td>\n",
       "      <td>e</td>\n",
       "    </tr>\n",
       "    <tr>\n",
       "      <th>5896</th>\n",
       "      <td>1000A</td>\n",
       "      <td>Bevölkerung kompakt</td>\n",
       "      <td>STAG</td>\n",
       "      <td>Stichtag</td>\n",
       "      <td>2011-05-09</td>\n",
       "      <td>GEOGM1</td>\n",
       "      <td>Gemeinden</td>\n",
       "      <td>130545416001</td>\n",
       "      <td>Alt Krenzlin</td>\n",
       "      <td>FAMST1</td>\n",
       "      <td>Familienstand (ausführlich)</td>\n",
       "      <td>VERWITWET</td>\n",
       "      <td>Verwitwet</td>\n",
       "      <td>12.2</td>\n",
       "      <td>%</td>\n",
       "      <td>PRS018</td>\n",
       "      <td>Personen</td>\n",
       "      <td>e</td>\n",
       "    </tr>\n",
       "    <tr>\n",
       "      <th>5897</th>\n",
       "      <td>1000A</td>\n",
       "      <td>Bevölkerung kompakt</td>\n",
       "      <td>STAG</td>\n",
       "      <td>Stichtag</td>\n",
       "      <td>2011-05-09</td>\n",
       "      <td>GEOGM1</td>\n",
       "      <td>Gemeinden</td>\n",
       "      <td>033515404018</td>\n",
       "      <td>Nienhagen (Landkreis Celle)</td>\n",
       "      <td>FAMST1</td>\n",
       "      <td>Familienstand (ausführlich)</td>\n",
       "      <td>VERWITWET</td>\n",
       "      <td>Verwitwet</td>\n",
       "      <td>6.6</td>\n",
       "      <td>%</td>\n",
       "      <td>PRS018</td>\n",
       "      <td>Personen</td>\n",
       "      <td>e</td>\n",
       "    </tr>\n",
       "    <tr>\n",
       "      <th>5898</th>\n",
       "      <td>1000A</td>\n",
       "      <td>Bevölkerung kompakt</td>\n",
       "      <td>STAG</td>\n",
       "      <td>Stichtag</td>\n",
       "      <td>2011-05-09</td>\n",
       "      <td>GEODL1</td>\n",
       "      <td>Deutschland</td>\n",
       "      <td>DG</td>\n",
       "      <td>Deutschland</td>\n",
       "      <td>FAMST1</td>\n",
       "      <td>Familienstand (ausführlich)</td>\n",
       "      <td>NaN</td>\n",
       "      <td>Insgesamt</td>\n",
       "      <td>100.0</td>\n",
       "      <td>%</td>\n",
       "      <td>PRS001</td>\n",
       "      <td>Personen</td>\n",
       "      <td>e</td>\n",
       "    </tr>\n",
       "    <tr>\n",
       "      <th>5899</th>\n",
       "      <td>1000A</td>\n",
       "      <td>Bevölkerung kompakt</td>\n",
       "      <td>STAG</td>\n",
       "      <td>Stichtag</td>\n",
       "      <td>2011-05-09</td>\n",
       "      <td>GEODL1</td>\n",
       "      <td>Deutschland</td>\n",
       "      <td>DG</td>\n",
       "      <td>Deutschland</td>\n",
       "      <td>FAMST1</td>\n",
       "      <td>Familienstand (ausführlich)</td>\n",
       "      <td>VERWITWET</td>\n",
       "      <td>Verwitwet</td>\n",
       "      <td>7.1</td>\n",
       "      <td>%</td>\n",
       "      <td>PRS001</td>\n",
       "      <td>Personen</td>\n",
       "      <td>e</td>\n",
       "    </tr>\n",
       "  </tbody>\n",
       "</table>\n",
       "<p>5900 rows × 18 columns</p>\n",
       "</div>"
      ],
      "text/plain": [
       "     statistics_code     statistics_label time_code time_label        time  \\\n",
       "0              1000A  Bevölkerung kompakt      STAG   Stichtag  2011-05-09   \n",
       "1              1000A  Bevölkerung kompakt      STAG   Stichtag  2011-05-09   \n",
       "2              1000A  Bevölkerung kompakt      STAG   Stichtag  2011-05-09   \n",
       "3              1000A  Bevölkerung kompakt      STAG   Stichtag  2011-05-09   \n",
       "4              1000A  Bevölkerung kompakt      STAG   Stichtag  2011-05-09   \n",
       "...              ...                  ...       ...        ...         ...   \n",
       "5895           1000A  Bevölkerung kompakt      STAG   Stichtag  2011-05-09   \n",
       "5896           1000A  Bevölkerung kompakt      STAG   Stichtag  2011-05-09   \n",
       "5897           1000A  Bevölkerung kompakt      STAG   Stichtag  2011-05-09   \n",
       "5898           1000A  Bevölkerung kompakt      STAG   Stichtag  2011-05-09   \n",
       "5899           1000A  Bevölkerung kompakt      STAG   Stichtag  2011-05-09   \n",
       "\n",
       "     1_variable_code 1_variable_label 1_variable_attribute_code  \\\n",
       "0             GEOGM1        Gemeinden              010585864147   \n",
       "1             GEOGM1        Gemeinden              031545403025   \n",
       "2             GEOGM1        Gemeinden              010595990109   \n",
       "3             GEOGM1        Gemeinden              010595952151   \n",
       "4             GEOGM1        Gemeinden              010615138035   \n",
       "...              ...              ...                       ...   \n",
       "5895          GEOGM1        Gemeinden              130555517008   \n",
       "5896          GEOGM1        Gemeinden              130545416001   \n",
       "5897          GEOGM1        Gemeinden              033515404018   \n",
       "5898          GEODL1      Deutschland                        DG   \n",
       "5899          GEODL1      Deutschland                        DG   \n",
       "\n",
       "                  1_variable_attribute_label 2_variable_code  \\\n",
       "0                          Schülp b. Nortorf          FAMST1   \n",
       "1                                    Warberg          FAMST1   \n",
       "2                                     Esgrus          FAMST1   \n",
       "3        Osterby (Kreis Schleswig-Flensburg)          FAMST1   \n",
       "4                      Heiligenstedtenerkamp          FAMST1   \n",
       "...                                      ...             ...   \n",
       "5895  Brunn (Landkreis Mecklenburg-Strelitz)          FAMST1   \n",
       "5896                            Alt Krenzlin          FAMST1   \n",
       "5897             Nienhagen (Landkreis Celle)          FAMST1   \n",
       "5898                             Deutschland          FAMST1   \n",
       "5899                             Deutschland          FAMST1   \n",
       "\n",
       "                 2_variable_label 2_variable_attribute_code  \\\n",
       "0     Familienstand (ausführlich)                 VERWITWET   \n",
       "1     Familienstand (ausführlich)                       NaN   \n",
       "2     Familienstand (ausführlich)                       NaN   \n",
       "3     Familienstand (ausführlich)                 VERWITWET   \n",
       "4     Familienstand (ausführlich)                       NaN   \n",
       "...                           ...                       ...   \n",
       "5895  Familienstand (ausführlich)                 VERWITWET   \n",
       "5896  Familienstand (ausführlich)                 VERWITWET   \n",
       "5897  Familienstand (ausführlich)                 VERWITWET   \n",
       "5898  Familienstand (ausführlich)                       NaN   \n",
       "5899  Familienstand (ausführlich)                 VERWITWET   \n",
       "\n",
       "     2_variable_attribute_label  value value_unit value_variable_code  \\\n",
       "0                     Verwitwet    6.6          %              PRS018   \n",
       "1                     Insgesamt  100.0          %              PRS018   \n",
       "2                     Insgesamt  100.0          %              PRS018   \n",
       "3                     Verwitwet    3.5          %              PRS018   \n",
       "4                     Insgesamt  100.0          %              PRS018   \n",
       "...                         ...    ...        ...                 ...   \n",
       "5895                  Verwitwet    7.7          %              PRS018   \n",
       "5896                  Verwitwet   12.2          %              PRS018   \n",
       "5897                  Verwitwet    6.6          %              PRS018   \n",
       "5898                  Insgesamt  100.0          %              PRS001   \n",
       "5899                  Verwitwet    7.1          %              PRS001   \n",
       "\n",
       "     value_variable_label value_q  \n",
       "0                Personen       e  \n",
       "1                Personen       e  \n",
       "2                Personen       e  \n",
       "3                Personen       e  \n",
       "4                Personen       e  \n",
       "...                   ...     ...  \n",
       "5895             Personen       e  \n",
       "5896             Personen       e  \n",
       "5897             Personen       e  \n",
       "5898             Personen       e  \n",
       "5899             Personen       e  \n",
       "\n",
       "[5900 rows x 18 columns]"
      ]
     },
     "execution_count": 16,
     "metadata": {},
     "output_type": "execute_result"
    }
   ],
   "source": [
    "# use the table directly while in memory\n",
    "# ffcsv is unsorted right now\n",
    "\n",
    "table2df(myTable) #.sort_values(by=\"1_variable_attribute_code\")"
   ]
  },
  {
   "cell_type": "code",
   "execution_count": null,
   "metadata": {},
   "outputs": [],
   "source": []
  }
 ],
 "metadata": {
  "kernelspec": {
   "display_name": "Python 3 (ipykernel)",
   "language": "python",
   "name": "python3"
  },
  "language_info": {
   "codemirror_mode": {
    "name": "ipython",
    "version": 3
   },
   "file_extension": ".py",
   "mimetype": "text/x-python",
   "name": "python",
   "nbconvert_exporter": "python",
   "pygments_lexer": "ipython3",
   "version": "3.12.0"
  }
 },
 "nbformat": 4,
 "nbformat_minor": 4
}
