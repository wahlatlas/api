{
 "cells": [
  {
   "cell_type": "code",
   "execution_count": null,
   "id": "3ce9c98d-9e5d-4801-8b15-3a35a0d39c6e",
   "metadata": {},
   "outputs": [],
   "source": [
    "import feedparser\n",
    "import re\n",
    "import datetime\n",
    "from datetime import timedelta\n",
    "import requests"
   ]
  },
  {
   "cell_type": "markdown",
   "id": "7c89fa48-a22f-43b7-b4ff-ac4f42d2ba9b",
   "metadata": {},
   "source": [
    "**Genesis API credentials**  \n",
    "get yours for free if you haven't already  \n",
    "https://www-genesis.destatis.de/genesis/online?Menu=Registrierung"
   ]
  },
  {
   "cell_type": "code",
   "execution_count": null,
   "id": "11b848ae-5f9c-49d8-9132-0a29c8c3590b",
   "metadata": {},
   "outputs": [],
   "source": [
    "# insert your credentials here before you proceed\n",
    "# Genesis Online, Regionaldatenbank and Zensusdatenbank have each their own registration and usernames\n",
    "KENNUNG = \"xxx\"\n",
    "PASSWORT = \"xxx\""
   ]
  },
  {
   "cell_type": "code",
   "execution_count": null,
   "id": "710ab026-bfe0-4cc4-9cd0-112dc85bcfc2",
   "metadata": {},
   "outputs": [],
   "source": [
    "# api login test - check credentials first\n",
    "checkUrl = \"https://www-genesis.destatis.de/genesisWS/rest/2020/helloworld/logincheck?username=\" \\\n",
    "            +KENNUNG+ \"&password=\" +PASSWORT\n",
    "\n",
    "response = requests.get(checkUrl, timeout=120)\n",
    "response.json()"
   ]
  },
  {
   "cell_type": "code",
   "execution_count": null,
   "id": "0751ee6d-896e-43c1-a01b-cf7f15b7353b",
   "metadata": {},
   "outputs": [],
   "source": [
    "# Latest updates via Genesis rss feed\n",
    "feed = feedparser.parse(\"https://www-genesis.destatis.de/genesis/online/news?language=de\")"
   ]
  },
  {
   "cell_type": "code",
   "execution_count": null,
   "id": "8cfc8d0e-70bc-42cb-96bc-f03a8fdbe469",
   "metadata": {},
   "outputs": [],
   "source": [
    "today = datetime.datetime.now()"
   ]
  },
  {
   "cell_type": "code",
   "execution_count": null,
   "id": "9a4640fa-caa2-45b2-a926-252a80c35090",
   "metadata": {},
   "outputs": [],
   "source": [
    "yesterday_ddmmyyyy = (today - timedelta(days=1)).strftime(\"%d.%m.%Y\")"
   ]
  },
  {
   "cell_type": "code",
   "execution_count": null,
   "id": "44233f8b-7b56-4939-b0c3-ec198fc47100",
   "metadata": {},
   "outputs": [],
   "source": [
    "# create and populate list of updated statistics from newsfeed\n",
    "updatedStatistics = []\n",
    "\n",
    "for entry in feed.entries:\n",
    "    \n",
    "    # filter feed to new items of the last 24hrs\n",
    "    if (today - datetime.datetime(*entry.published_parsed[:4])).days < 1:\n",
    "    \n",
    "        myCode = re.findall(r\"\\d{5}\",entry.title)[0]\n",
    "        updatedStatistics.append(myCode)\n",
    "        \n",
    "        print(myCode, entry.published, entry.title[17:85])"
   ]
  },
  {
   "cell_type": "code",
   "execution_count": null,
   "id": "e1949c91-5090-4a6e-b38f-629bfd38f7a2",
   "metadata": {},
   "outputs": [],
   "source": [
    "len(updatedStatistics)"
   ]
  },
  {
   "cell_type": "code",
   "execution_count": null,
   "id": "85289eea-0041-4722-9c72-d703f167f5ec",
   "metadata": {},
   "outputs": [],
   "source": [
    "# create and populate list of tables that belong to each updated statistic\n",
    "updatedTables = []\n",
    "\n",
    "for statistic in updatedStatistics:\n",
    "    \n",
    "    catUrl = \"https://www-genesis.destatis.de/genesisWS/rest/2020/catalogue/tables2statistic?username=\" \\\n",
    "                +KENNUNG+\"&password=\"+PASSWORT+\"&name=\"+statistic\n",
    "    \n",
    "    catResponse = requests.get(catUrl, timeout=120)\n",
    "\n",
    "    for code in catResponse.json()[\"List\"]:\n",
    "    \n",
    "        updatedTables.append(code[\"Code\"])\n",
    "\n",
    "print(updatedTables)"
   ]
  },
  {
   "cell_type": "code",
   "execution_count": null,
   "id": "c70b347b-95f4-46f1-864b-742d08310329",
   "metadata": {},
   "outputs": [],
   "source": [
    "len(updatedTables)"
   ]
  },
  {
   "cell_type": "code",
   "execution_count": null,
   "id": "d7fecf2f-9a28-48c5-a322-5ee4b6c6a447",
   "metadata": {},
   "outputs": [],
   "source": [
    "# Download XLSX-files for each updated Table Nr\n",
    "tabUrl = \"https://www-genesis.destatis.de/genesisWS/rest/2020/data/tablefile?username=\" \\\n",
    "                +KENNUNG+\"&password=\"+PASSWORT+\"&format=xlsx&name=\"\n",
    "# Get Table Title for each updated Table Nr\n",
    "namUrl = \"https://www-genesis.destatis.de/genesisWS/rest/2020/catalogue/tables?username=\" \\\n",
    "                +KENNUNG+\"&password=\"+PASSWORT+\"&selection=\"\n",
    "# Where to download\n",
    "destination = \"newsfeed-download/\"\n",
    "\n",
    "for name in updatedTables:\n",
    "    \n",
    "    # only download tables that have been updated since yesterday\n",
    "    response = requests.get(tabUrl+name+\"&stand=\"+yesterday_ddmmyyyy, timeout=120)\n",
    "    \n",
    "    if response.status_code == 200:\n",
    "        \n",
    "        # a statistic may have been updated with values for June but tables with yearly data have not \n",
    "        if re.search(\"Keine aktualisierten Daten vorhanden.\",str(response.content)):\n",
    "\n",
    "            print(name, \" Keine aktualisierten Daten\")\n",
    "\n",
    "        else:     \n",
    "            \n",
    "            # enhance filename with human readable title \n",
    "            metaresp = requests.get(namUrl+name, timeout=120)\n",
    "            # replace characters that are not suitable for filenames \n",
    "            filetitle = metaresp.json()[\"List\"][0][\"Content\"].replace(\":\",\"_\").replace(\"\\n\",\" \").replace(\"/\",\"_\")\n",
    "            # filename (statistics id + title) and directory\n",
    "            with open(destination+name+\"_\"+filetitle+\".xlsx\", 'wb') as f:\n",
    "                f.write(response.content)"
   ]
  },
  {
   "cell_type": "code",
   "execution_count": null,
   "id": "b240ea8c-41e5-4330-88e8-d70ab5a00381",
   "metadata": {},
   "outputs": [],
   "source": []
  }
 ],
 "metadata": {
  "kernelspec": {
   "display_name": "Python [conda env:root] *",
   "language": "python",
   "name": "conda-root-py"
  },
  "language_info": {
   "codemirror_mode": {
    "name": "ipython",
    "version": 3
   },
   "file_extension": ".py",
   "mimetype": "text/x-python",
   "name": "python",
   "nbconvert_exporter": "python",
   "pygments_lexer": "ipython3",
   "version": "3.8.13"
  }
 },
 "nbformat": 4,
 "nbformat_minor": 5
}
