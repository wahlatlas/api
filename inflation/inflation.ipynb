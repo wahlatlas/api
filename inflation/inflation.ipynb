{
 "cells": [
  {
   "cell_type": "code",
   "execution_count": 1,
   "metadata": {
    "tags": []
   },
   "outputs": [],
   "source": [
    "import pandas as pd\n",
    "import matplotlib.pyplot as plt\n",
    "import requests\n",
    "import json\n",
    "import io\n",
    "from dotenv import dotenv_values, load_dotenv"
   ]
  },
  {
   "cell_type": "code",
   "execution_count": 2,
   "metadata": {
    "tags": []
   },
   "outputs": [],
   "source": [
    "# Load credentials from .env file\n",
    "load_dotenv()  \n",
    "USERNAME, PASSWORD = dotenv_values().values()\n",
    "\n",
    "# Set base path for API calls\n",
    "BASE_URL = 'https://www-genesis.destatis.de/genesisWS/rest/2020/'"
   ]
  },
  {
   "cell_type": "code",
   "execution_count": 3,
   "metadata": {
    "tags": []
   },
   "outputs": [
    {
     "name": "stdout",
     "output_type": "stream",
     "text": [
      "Statistik_Code;Statistik_Label;Zeit_Code;Zeit_Label;Zeit;1_Merkmal_Code;1_Merkmal_Label;1_Auspraegung_Code;1_Auspraegung_Label;PREIS1__Verbraucherprei\n"
     ]
    }
   ],
   "source": [
    "response = requests.get(BASE_URL + 'data/tablefile', params={\n",
    "    'username': USERNAME,\n",
    "    'password': PASSWORD,\n",
    "    'name': '61111-0001',\n",
    "    'startyear': 1998,\n",
    "    'format': 'ffcsv',\n",
    "    'language': 'de'\n",
    "})\n",
    "print(response.text[0:150])"
   ]
  },
  {
   "cell_type": "code",
   "execution_count": 4,
   "metadata": {
    "tags": []
   },
   "outputs": [],
   "source": [
    "# Set encoding to unicode (utf-8)\n",
    "response.encoding = 'utf-8'\n",
    "csvInput = io.StringIO(response.text)"
   ]
  },
  {
   "cell_type": "code",
   "execution_count": 5,
   "metadata": {},
   "outputs": [],
   "source": [
    "df = pd.read_csv(csvInput, delimiter=';', decimal=\",\", na_values=[\"...\",\".\",\"-\",\"/\",\"x\"])"
   ]
  },
  {
   "cell_type": "code",
   "execution_count": 6,
   "metadata": {},
   "outputs": [
    {
     "data": {
      "text/html": [
       "<div>\n",
       "<style scoped>\n",
       "    .dataframe tbody tr th:only-of-type {\n",
       "        vertical-align: middle;\n",
       "    }\n",
       "\n",
       "    .dataframe tbody tr th {\n",
       "        vertical-align: top;\n",
       "    }\n",
       "\n",
       "    .dataframe thead th {\n",
       "        text-align: right;\n",
       "    }\n",
       "</style>\n",
       "<table border=\"1\" class=\"dataframe\">\n",
       "  <thead>\n",
       "    <tr style=\"text-align: right;\">\n",
       "      <th></th>\n",
       "      <th>Statistik_Code</th>\n",
       "      <th>Statistik_Label</th>\n",
       "      <th>Zeit_Code</th>\n",
       "      <th>Zeit_Label</th>\n",
       "      <th>Zeit</th>\n",
       "      <th>1_Merkmal_Code</th>\n",
       "      <th>1_Merkmal_Label</th>\n",
       "      <th>1_Auspraegung_Code</th>\n",
       "      <th>1_Auspraegung_Label</th>\n",
       "      <th>PREIS1__Verbraucherpreisindex__2020=100</th>\n",
       "      <th>PREIS1__CH0004</th>\n",
       "    </tr>\n",
       "  </thead>\n",
       "  <tbody>\n",
       "    <tr>\n",
       "      <th>0</th>\n",
       "      <td>61111</td>\n",
       "      <td>Verbraucherpreisindex für Deutschland</td>\n",
       "      <td>JAHR</td>\n",
       "      <td>Jahr</td>\n",
       "      <td>1998</td>\n",
       "      <td>DINSG</td>\n",
       "      <td>Deutschland insgesamt</td>\n",
       "      <td>DG</td>\n",
       "      <td>Deutschland</td>\n",
       "      <td>74.0</td>\n",
       "      <td>0.8</td>\n",
       "    </tr>\n",
       "    <tr>\n",
       "      <th>1</th>\n",
       "      <td>61111</td>\n",
       "      <td>Verbraucherpreisindex für Deutschland</td>\n",
       "      <td>JAHR</td>\n",
       "      <td>Jahr</td>\n",
       "      <td>1999</td>\n",
       "      <td>DINSG</td>\n",
       "      <td>Deutschland insgesamt</td>\n",
       "      <td>DG</td>\n",
       "      <td>Deutschland</td>\n",
       "      <td>74.5</td>\n",
       "      <td>0.7</td>\n",
       "    </tr>\n",
       "    <tr>\n",
       "      <th>2</th>\n",
       "      <td>61111</td>\n",
       "      <td>Verbraucherpreisindex für Deutschland</td>\n",
       "      <td>JAHR</td>\n",
       "      <td>Jahr</td>\n",
       "      <td>2000</td>\n",
       "      <td>DINSG</td>\n",
       "      <td>Deutschland insgesamt</td>\n",
       "      <td>DG</td>\n",
       "      <td>Deutschland</td>\n",
       "      <td>75.5</td>\n",
       "      <td>1.3</td>\n",
       "    </tr>\n",
       "    <tr>\n",
       "      <th>3</th>\n",
       "      <td>61111</td>\n",
       "      <td>Verbraucherpreisindex für Deutschland</td>\n",
       "      <td>JAHR</td>\n",
       "      <td>Jahr</td>\n",
       "      <td>2001</td>\n",
       "      <td>DINSG</td>\n",
       "      <td>Deutschland insgesamt</td>\n",
       "      <td>DG</td>\n",
       "      <td>Deutschland</td>\n",
       "      <td>77.0</td>\n",
       "      <td>2.0</td>\n",
       "    </tr>\n",
       "    <tr>\n",
       "      <th>4</th>\n",
       "      <td>61111</td>\n",
       "      <td>Verbraucherpreisindex für Deutschland</td>\n",
       "      <td>JAHR</td>\n",
       "      <td>Jahr</td>\n",
       "      <td>2002</td>\n",
       "      <td>DINSG</td>\n",
       "      <td>Deutschland insgesamt</td>\n",
       "      <td>DG</td>\n",
       "      <td>Deutschland</td>\n",
       "      <td>78.1</td>\n",
       "      <td>1.4</td>\n",
       "    </tr>\n",
       "  </tbody>\n",
       "</table>\n",
       "</div>"
      ],
      "text/plain": [
       "   Statistik_Code                        Statistik_Label Zeit_Code Zeit_Label  \\\n",
       "0           61111  Verbraucherpreisindex für Deutschland      JAHR       Jahr   \n",
       "1           61111  Verbraucherpreisindex für Deutschland      JAHR       Jahr   \n",
       "2           61111  Verbraucherpreisindex für Deutschland      JAHR       Jahr   \n",
       "3           61111  Verbraucherpreisindex für Deutschland      JAHR       Jahr   \n",
       "4           61111  Verbraucherpreisindex für Deutschland      JAHR       Jahr   \n",
       "\n",
       "   Zeit 1_Merkmal_Code        1_Merkmal_Label 1_Auspraegung_Code  \\\n",
       "0  1998          DINSG  Deutschland insgesamt                 DG   \n",
       "1  1999          DINSG  Deutschland insgesamt                 DG   \n",
       "2  2000          DINSG  Deutschland insgesamt                 DG   \n",
       "3  2001          DINSG  Deutschland insgesamt                 DG   \n",
       "4  2002          DINSG  Deutschland insgesamt                 DG   \n",
       "\n",
       "  1_Auspraegung_Label  PREIS1__Verbraucherpreisindex__2020=100  PREIS1__CH0004  \n",
       "0         Deutschland                                     74.0             0.8  \n",
       "1         Deutschland                                     74.5             0.7  \n",
       "2         Deutschland                                     75.5             1.3  \n",
       "3         Deutschland                                     77.0             2.0  \n",
       "4         Deutschland                                     78.1             1.4  "
      ]
     },
     "execution_count": 6,
     "metadata": {},
     "output_type": "execute_result"
    }
   ],
   "source": [
    "df.head(5)"
   ]
  },
  {
   "cell_type": "code",
   "execution_count": 7,
   "metadata": {},
   "outputs": [
    {
     "data": {
      "image/png": "[encoded data removed]",
      "text/plain": [
       "<Figure size 640x480 with 1 Axes>"
      ]
     },
     "metadata": {},
     "output_type": "display_data"
    }
   ],
   "source": [
    "# Create a bar chart using the 'Zeit' and 'PREIS1__CH0004' columns\n",
    "plt.bar(df['Zeit'], df['PREIS1__CH0004'])\n",
    "plt.title('Verbraucherpreisindex für Deutschland')\n",
    "plt.xlabel('Zeitraum')\n",
    "plt.ylabel('Veränderung in %')\n",
    "plt.show()"
   ]
  }
 ],
 "metadata": {
  "kernelspec": {
   "display_name": "Python 3 (ipykernel)",
   "language": "python",
   "name": "python3"
  },
  "language_info": {
   "codemirror_mode": {
    "name": "ipython",
    "version": 3
   },
   "file_extension": ".py",
   "mimetype": "text/x-python",
   "name": "python",
   "nbconvert_exporter": "python",
   "pygments_lexer": "ipython3",
   "version": "3.12.0"
  }
 },
 "nbformat": 4,
 "nbformat_minor": 4
}
